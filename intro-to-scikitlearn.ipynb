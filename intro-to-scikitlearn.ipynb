{
 "cells": [
  {
   "cell_type": "markdown",
   "metadata": {},
   "source": [
    "# Intro to scikit-learn \n",
    "In this example we see how to use the python module scikit-learn, doing a linear regression model"
   ]
  },
  {
   "cell_type": "code",
   "execution_count": 1,
   "metadata": {},
   "outputs": [],
   "source": [
    "#Importing libraries\n",
    "import pandas as pd\n",
    "import matplotlib.pyplot as plt\n",
    "import numpy as np\n",
    "from sklearn import linear_model"
   ]
  },
  {
   "cell_type": "markdown",
   "metadata": {},
   "source": [
    "<p>We download from kaggle the <a href=\"https://www.kaggle.com/jessicali9530/honey-production\">Dataset</a></p><br>\n",
    "<p>It is about the honey production in the USA, and show how it is decreasing in the latest years.</p>\n"
   ]
  },
  {
   "cell_type": "code",
   "execution_count": 5,
   "metadata": {},
   "outputs": [
    {
     "name": "stdout",
     "output_type": "stream",
     "text": [
      "  state    numcol  yieldpercol   totalprod      stocks  priceperlb  \\\n",
      "0    AL   16000.0           71   1136000.0    159000.0        0.72   \n",
      "1    AZ   55000.0           60   3300000.0   1485000.0        0.64   \n",
      "2    AR   53000.0           65   3445000.0   1688000.0        0.59   \n",
      "3    CA  450000.0           83  37350000.0  12326000.0        0.62   \n",
      "4    CO   27000.0           72   1944000.0   1594000.0        0.70   \n",
      "\n",
      "    prodvalue  year  \n",
      "0    818000.0  1998  \n",
      "1   2112000.0  1998  \n",
      "2   2033000.0  1998  \n",
      "3  23157000.0  1998  \n",
      "4   1361000.0  1998  \n"
     ]
    }
   ],
   "source": [
    "df = pd.read_csv(\"honeyproduction.csv\")\n",
    "print(df.head())"
   ]
  },
  {
   "cell_type": "code",
   "execution_count": 6,
   "metadata": {},
   "outputs": [
    {
     "name": "stdout",
     "output_type": "stream",
     "text": [
      "    year     totalprod\n",
      "0   1998  5.105093e+06\n",
      "1   1999  4.706674e+06\n",
      "2   2000  5.106000e+06\n",
      "3   2001  4.221545e+06\n",
      "4   2002  3.892386e+06\n",
      "5   2003  4.122091e+06\n",
      "6   2004  4.456805e+06\n",
      "7   2005  4.243146e+06\n",
      "8   2006  3.761902e+06\n",
      "9   2007  3.600512e+06\n",
      "10  2008  3.974927e+06\n",
      "11  2009  3.626700e+06\n",
      "12  2010  4.382350e+06\n",
      "13  2011  3.680025e+06\n",
      "14  2012  3.522675e+06\n"
     ]
    }
   ],
   "source": [
    "#To print the query with the production grouped by year\n",
    "prod_per_year=df.groupby('year').totalprod.mean().reset_index()\n",
    "print(prod_per_year)"
   ]
  },
  {
   "cell_type": "code",
   "execution_count": 10,
   "metadata": {},
   "outputs": [
    {
     "data": {
      "text/plain": [
       "<matplotlib.collections.PathCollection at 0x25526e18b38>"
      ]
     },
     "execution_count": 10,
     "metadata": {},
     "output_type": "execute_result"
    },
    {
     "data": {
      "image/png": "[encoded data removed]",
      "text/plain": [
       "<Figure size 432x288 with 1 Axes>"
      ]
     },
     "metadata": {
      "needs_background": "light"
     },
     "output_type": "display_data"
    }
   ],
   "source": [
    "#Saving the years of production in the dataset in a different value X, also the production in Y\n",
    "X= prod_per_year[\"year\"]\n",
    "Y=prod_per_year[\"totalprod\"]\n",
    "#Reshaping X\n",
    "X = X.values.reshape(-1, 1)\n",
    "#plotting\n",
    "plt.scatter(X,Y)"
   ]
  },
  {
   "cell_type": "code",
   "execution_count": 12,
   "metadata": {},
   "outputs": [
    {
     "name": "stdout",
     "output_type": "stream",
     "text": [
      "-88303.18915238194\n",
      "181208083.1073298\n"
     ]
    }
   ],
   "source": [
    "#Creating the linear regression model in scikit-learn, and printing the parameters\n",
    "regr = linear_model.LinearRegression()\n",
    "regr.fit(X,Y)\n",
    "print(regr.coef_[0])\n",
    "print(regr.intercept_)"
   ]
  },
  {
   "cell_type": "code",
   "execution_count": 15,
   "metadata": {},
   "outputs": [
    {
     "data": {
      "image/png": "[encoded data removed]",
      "text/plain": [
       "<Figure size 432x288 with 1 Axes>"
      ]
     },
     "metadata": {
      "needs_background": "light"
     },
     "output_type": "display_data"
    }
   ],
   "source": [
    "#Creating list that represent the future years until 2051\n",
    "X_future=np.array(range(2013,2051))\n",
    "X_future=X_future.reshape(-1,1)\n",
    "#Predicting the production for the upcoming years and plotting\n",
    "y_predict=regr.predict(X)\n",
    "future_predict=regr.predict(X_future)\n",
    "plt.scatter(X,Y)\n",
    "plt.plot(X,y_predict)\n",
    "plt.plot(X_future, future_predict)\n",
    "plt.show()\n"
   ]
  },
  {
   "cell_type": "code",
   "execution_count": null,
   "metadata": {},
   "outputs": [],
   "source": []
  }
 ],
 "metadata": {
  "kernelspec": {
   "display_name": "Python 3",
   "language": "python",
   "name": "python3"
  },
  "language_info": {
   "codemirror_mode": {
    "name": "ipython",
    "version": 3
   },
   "file_extension": ".py",
   "mimetype": "text/x-python",
   "name": "python",
   "nbconvert_exporter": "python",
   "pygments_lexer": "ipython3",
   "version": "3.7.0"
  }
 },
 "nbformat": 4,
 "nbformat_minor": 2
}
