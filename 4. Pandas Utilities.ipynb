{
 "cells": [
  {
   "cell_type": "markdown",
   "metadata": {},
   "source": [
    "# Pandas Utilities"
   ]
  },
  {
   "cell_type": "markdown",
   "metadata": {},
   "source": [
    "Methods and code in Pandas that are important for Pandas but not directly related to data processing for data analysis and data science, also advanced Pandas "
   ]
  },
  {
   "cell_type": "markdown",
   "metadata": {},
   "source": [
    "## Import Pandas"
   ]
  },
  {
   "cell_type": "code",
   "execution_count": 5,
   "metadata": {},
   "outputs": [],
   "source": [
    "# Import libraries \n",
    "import pandas as pd\n",
    "import numpy as np"
   ]
  },
  {
   "cell_type": "markdown",
   "metadata": {},
   "source": [
    "## Print versions"
   ]
  },
  {
   "cell_type": "code",
   "execution_count": 2,
   "metadata": {},
   "outputs": [
    {
     "data": {
      "text/plain": [
       "'1.1.4'"
      ]
     },
     "execution_count": 2,
     "metadata": {},
     "output_type": "execute_result"
    }
   ],
   "source": [
    "# Print the version of pandas that has been imported.\n",
    "pd.__version__"
   ]
  },
  {
   "cell_type": "code",
   "execution_count": 3,
   "metadata": {
    "scrolled": true
   },
   "outputs": [
    {
     "name": "stdout",
     "output_type": "stream",
     "text": [
      "\n",
      "INSTALLED VERSIONS\n",
      "------------------\n",
      "commit           : 67a3d4241ab84419856b84fc3ebc9abcbe66c6b3\n",
      "python           : 3.6.12.final.0\n",
      "python-bits      : 64\n",
      "OS               : Linux\n",
      "OS-release       : 5.4.0-58-generic\n",
      "Version          : #64-Ubuntu SMP Wed Dec 9 08:16:25 UTC 2020\n",
      "machine          : x86_64\n",
      "processor        : x86_64\n",
      "byteorder        : little\n",
      "LC_ALL           : None\n",
      "LANG             : en_US.UTF-8\n",
      "LOCALE           : en_US.UTF-8\n",
      "\n",
      "pandas           : 1.1.4\n",
      "numpy            : 1.19.2\n",
      "pytz             : 2020.4\n",
      "dateutil         : 2.8.1\n",
      "pip              : 20.3\n",
      "setuptools       : 50.3.2.post20201201\n",
      "Cython           : None\n",
      "pytest           : None\n",
      "hypothesis       : None\n",
      "sphinx           : None\n",
      "blosc            : None\n",
      "feather          : None\n",
      "xlsxwriter       : None\n",
      "lxml.etree       : None\n",
      "html5lib         : None\n",
      "pymysql          : None\n",
      "psycopg2         : None\n",
      "jinja2           : 2.11.2\n",
      "IPython          : 7.16.1\n",
      "pandas_datareader: None\n",
      "bs4              : 4.9.3\n",
      "bottleneck       : None\n",
      "fsspec           : None\n",
      "fastparquet      : None\n",
      "gcsfs            : None\n",
      "matplotlib       : 3.3.3\n",
      "numexpr          : None\n",
      "odfpy            : None\n",
      "openpyxl         : None\n",
      "pandas_gbq       : None\n",
      "pyarrow          : None\n",
      "pytables         : None\n",
      "pyxlsb           : None\n",
      "s3fs             : None\n",
      "scipy            : 1.5.4\n",
      "sqlalchemy       : None\n",
      "tables           : None\n",
      "tabulate         : None\n",
      "xarray           : None\n",
      "xlrd             : None\n",
      "xlwt             : None\n",
      "numba            : None\n"
     ]
    }
   ],
   "source": [
    "# Print out all the version information of the libraries that are required by the pandas library.\n",
    "pd.show_versions(as_json=False)"
   ]
  },
  {
   "cell_type": "markdown",
   "metadata": {},
   "source": [
    "## MultiIndex in Pandas"
   ]
  },
  {
   "cell_type": "code",
   "execution_count": 117,
   "metadata": {},
   "outputs": [
    {
     "data": {
      "text/plain": [
       "A  0    0.581970\n",
       "   1    0.022063\n",
       "   2    0.256083\n",
       "   3    0.969449\n",
       "   4    0.942531\n",
       "B  0    0.637925\n",
       "   1    0.777131\n",
       "   2    0.104953\n",
       "   3    0.588155\n",
       "   4    0.722349\n",
       "C  0    0.559908\n",
       "   1    0.770883\n",
       "   2    0.879403\n",
       "   3    0.624149\n",
       "   4    0.508853\n",
       "dtype: float64"
      ]
     },
     "execution_count": 117,
     "metadata": {},
     "output_type": "execute_result"
    }
   ],
   "source": [
    "# Given the lists letters = ['A', 'B', 'C'] and numbers = list(range(10)),\n",
    "#construct a MultiIndex object from the product of the two lists. \n",
    "#Use it to index a Series of random numbers. \n",
    "letters = ['A', 'B', 'C']\n",
    "numbers = list(range(5))\n",
    "mi = pd.MultiIndex.from_product([letters, numbers])\n",
    "s_2 = pd.Series(np.random.rand(15), index=mi)\n",
    "s_2"
   ]
  },
  {
   "cell_type": "code",
   "execution_count": 118,
   "metadata": {},
   "outputs": [
    {
     "data": {
      "text/plain": [
       "True"
      ]
     },
     "execution_count": 118,
     "metadata": {},
     "output_type": "execute_result"
    }
   ],
   "source": [
    "# To check if a multiIndex lexicographically sorted\n",
    "#(this is a necessary property for indexing to work correctly with a MultiIndex).\n",
    "s_2.index.is_lexsorted()"
   ]
  },
  {
   "cell_type": "code",
   "execution_count": 119,
   "metadata": {},
   "outputs": [
    {
     "data": {
      "text/plain": [
       "A  1    0.022063\n",
       "   3    0.969449\n",
       "B  1    0.777131\n",
       "   3    0.588155\n",
       "C  1    0.770883\n",
       "   3    0.624149\n",
       "dtype: float64"
      ]
     },
     "execution_count": 119,
     "metadata": {},
     "output_type": "execute_result"
    }
   ],
   "source": [
    "# Select the labels 1 and 3 from the second level of the MultiIndexed Series.\n",
    "s_2.loc[:, [1, 3]]"
   ]
  },
  {
   "cell_type": "code",
   "execution_count": 120,
   "metadata": {},
   "outputs": [
    {
     "data": {
      "text/plain": [
       "A  3    0.969449\n",
       "   4    0.942531\n",
       "B  3    0.588155\n",
       "   4    0.722349\n",
       "dtype: float64"
      ]
     },
     "execution_count": 120,
     "metadata": {},
     "output_type": "execute_result"
    }
   ],
   "source": [
    "# Slice up to label 'B' for the first level and from label 3 onwards for the second level.\n",
    "s_2.loc[pd.IndexSlice[:'B', 3:]]"
   ]
  },
  {
   "cell_type": "code",
   "execution_count": 121,
   "metadata": {},
   "outputs": [
    {
     "data": {
      "text/plain": [
       "A    2.772096\n",
       "B    2.830513\n",
       "C    3.343196\n",
       "dtype: float64"
      ]
     },
     "execution_count": 121,
     "metadata": {},
     "output_type": "execute_result"
    }
   ],
   "source": [
    "# Sum the values in s for each label in the first level\n",
    "s_2.sum(level=0)"
   ]
  },
  {
   "cell_type": "code",
   "execution_count": 122,
   "metadata": {},
   "outputs": [
    {
     "data": {
      "text/html": [
       "<div>\n",
       "<style scoped>\n",
       "    .dataframe tbody tr th:only-of-type {\n",
       "        vertical-align: middle;\n",
       "    }\n",
       "\n",
       "    .dataframe tbody tr th {\n",
       "        vertical-align: top;\n",
       "    }\n",
       "\n",
       "    .dataframe thead th {\n",
       "        text-align: right;\n",
       "    }\n",
       "</style>\n",
       "<table border=\"1\" class=\"dataframe\">\n",
       "  <thead>\n",
       "    <tr style=\"text-align: right;\">\n",
       "      <th></th>\n",
       "      <th>0</th>\n",
       "      <th>1</th>\n",
       "      <th>2</th>\n",
       "      <th>3</th>\n",
       "      <th>4</th>\n",
       "    </tr>\n",
       "  </thead>\n",
       "  <tbody>\n",
       "    <tr>\n",
       "      <th>A</th>\n",
       "      <td>0.581970</td>\n",
       "      <td>0.022063</td>\n",
       "      <td>0.256083</td>\n",
       "      <td>0.969449</td>\n",
       "      <td>0.942531</td>\n",
       "    </tr>\n",
       "    <tr>\n",
       "      <th>B</th>\n",
       "      <td>0.637925</td>\n",
       "      <td>0.777131</td>\n",
       "      <td>0.104953</td>\n",
       "      <td>0.588155</td>\n",
       "      <td>0.722349</td>\n",
       "    </tr>\n",
       "    <tr>\n",
       "      <th>C</th>\n",
       "      <td>0.559908</td>\n",
       "      <td>0.770883</td>\n",
       "      <td>0.879403</td>\n",
       "      <td>0.624149</td>\n",
       "      <td>0.508853</td>\n",
       "    </tr>\n",
       "  </tbody>\n",
       "</table>\n",
       "</div>"
      ],
      "text/plain": [
       "          0         1         2         3         4\n",
       "A  0.581970  0.022063  0.256083  0.969449  0.942531\n",
       "B  0.637925  0.777131  0.104953  0.588155  0.722349\n",
       "C  0.559908  0.770883  0.879403  0.624149  0.508853"
      ]
     },
     "execution_count": 122,
     "metadata": {},
     "output_type": "execute_result"
    }
   ],
   "source": [
    "# To unstack the multiIndex\n",
    "s_2.unstack()"
   ]
  },
  {
   "cell_type": "code",
   "execution_count": 123,
   "metadata": {},
   "outputs": [
    {
     "data": {
      "text/plain": [
       "0    1.779802\n",
       "1    1.570077\n",
       "2    1.240439\n",
       "3    2.181753\n",
       "4    2.173734\n",
       "dtype: float64"
      ]
     },
     "execution_count": 123,
     "metadata": {},
     "output_type": "execute_result"
    }
   ],
   "source": [
    "# To do a sum with the multiIndex stacked\n",
    "s_2.sum(level=1)"
   ]
  },
  {
   "cell_type": "code",
   "execution_count": 124,
   "metadata": {},
   "outputs": [
    {
     "data": {
      "text/plain": [
       "0    1.779802\n",
       "1    1.570077\n",
       "2    1.240439\n",
       "3    2.181753\n",
       "4    2.173734\n",
       "dtype: float64"
      ]
     },
     "execution_count": 124,
     "metadata": {},
     "output_type": "execute_result"
    }
   ],
   "source": [
    "# To do a sum with the multiIndex unstacked\n",
    "s_2.unstack().sum(axis=0)"
   ]
  },
  {
   "cell_type": "code",
   "execution_count": 125,
   "metadata": {
    "scrolled": true
   },
   "outputs": [
    {
     "data": {
      "text/plain": [
       "0  A    0.581970\n",
       "   B    0.637925\n",
       "   C    0.559908\n",
       "1  A    0.022063\n",
       "   B    0.777131\n",
       "   C    0.770883\n",
       "2  A    0.256083\n",
       "   B    0.104953\n",
       "   C    0.879403\n",
       "3  A    0.969449\n",
       "   B    0.588155\n",
       "   C    0.624149\n",
       "4  A    0.942531\n",
       "   B    0.722349\n",
       "   C    0.508853\n",
       "dtype: float64"
      ]
     },
     "execution_count": 125,
     "metadata": {},
     "output_type": "execute_result"
    }
   ],
   "source": [
    "# Exchange the levels of the MultiIndex and lexsort if required\n",
    "s_3 = s_2.swaplevel(0, 1)\n",
    "if not s_3.index.is_lexsorted():\n",
    "    s_3 = s_3.sort_index()\n",
    "s_3"
   ]
  },
  {
   "cell_type": "markdown",
   "metadata": {},
   "source": [
    "## Advanced columns operations"
   ]
  },
  {
   "cell_type": "code",
   "execution_count": 6,
   "metadata": {},
   "outputs": [
    {
     "data": {
      "text/plain": [
       "0    c\n",
       "1    b\n",
       "2    d\n",
       "3    c\n",
       "4    d\n",
       "dtype: object"
      ]
     },
     "execution_count": 6,
     "metadata": {},
     "output_type": "execute_result"
    }
   ],
   "source": [
    "# To find the label of the column that contains the second.\n",
    "# nan for each row\n",
    "nan = np.nan\n",
    "df_10 = [[33, nan, nan, 65],\n",
    "        [nan, nan, 45, 65],\n",
    "        [35, nan, 56, nan],\n",
    "        [87, nan, nan, 65],\n",
    "        [78, nan, 32, nan]]\n",
    "columns = list('abcd')\n",
    "df_10 = pd.DataFrame(df_10, columns=columns)\n",
    "(df_10.isnull().cumsum(axis=1) == 2).idxmax(axis=1)"
   ]
  },
  {
   "cell_type": "code",
   "execution_count": 7,
   "metadata": {},
   "outputs": [
    {
     "data": {
      "text/plain": [
       "A\n",
       "(0, 10]     238\n",
       "(10, 20]    274\n",
       "(20, 30]    167\n",
       "(30, 40]    285\n",
       "(40, 50]    334\n",
       "Name: B, dtype: int64"
      ]
     },
     "execution_count": 7,
     "metadata": {},
     "output_type": "execute_result"
    }
   ],
   "source": [
    "#For each interval of 10 consecutive values in 'A'  \n",
    "#calculate the sum of the corresponding values in column 'B'.\n",
    "df_11 = pd.DataFrame(np.random.RandomState(8765).randint(1, 51, size=(50, 2)), columns = [\"A\", \"B\"])\n",
    "df_11.groupby(pd.cut(df_11['A'], np.arange(0, 51, 10)))['B'].sum()"
   ]
  },
  {
   "cell_type": "code",
   "execution_count": 8,
   "metadata": {},
   "outputs": [
    {
     "data": {
      "text/html": [
       "<div>\n",
       "<style scoped>\n",
       "    .dataframe tbody tr th:only-of-type {\n",
       "        vertical-align: middle;\n",
       "    }\n",
       "\n",
       "    .dataframe tbody tr th {\n",
       "        vertical-align: top;\n",
       "    }\n",
       "\n",
       "    .dataframe thead th {\n",
       "        text-align: right;\n",
       "    }\n",
       "</style>\n",
       "<table border=\"1\" class=\"dataframe\">\n",
       "  <thead>\n",
       "    <tr style=\"text-align: right;\">\n",
       "      <th></th>\n",
       "      <th>X</th>\n",
       "      <th>Y</th>\n",
       "    </tr>\n",
       "  </thead>\n",
       "  <tbody>\n",
       "    <tr>\n",
       "      <th>0</th>\n",
       "      <td>7</td>\n",
       "      <td>1</td>\n",
       "    </tr>\n",
       "    <tr>\n",
       "      <th>1</th>\n",
       "      <td>2</td>\n",
       "      <td>2</td>\n",
       "    </tr>\n",
       "    <tr>\n",
       "      <th>2</th>\n",
       "      <td>0</td>\n",
       "      <td>0</td>\n",
       "    </tr>\n",
       "    <tr>\n",
       "      <th>3</th>\n",
       "      <td>3</td>\n",
       "      <td>1</td>\n",
       "    </tr>\n",
       "    <tr>\n",
       "      <th>4</th>\n",
       "      <td>4</td>\n",
       "      <td>2</td>\n",
       "    </tr>\n",
       "    <tr>\n",
       "      <th>5</th>\n",
       "      <td>2</td>\n",
       "      <td>3</td>\n",
       "    </tr>\n",
       "    <tr>\n",
       "      <th>6</th>\n",
       "      <td>5</td>\n",
       "      <td>4</td>\n",
       "    </tr>\n",
       "    <tr>\n",
       "      <th>7</th>\n",
       "      <td>0</td>\n",
       "      <td>0</td>\n",
       "    </tr>\n",
       "    <tr>\n",
       "      <th>8</th>\n",
       "      <td>3</td>\n",
       "      <td>1</td>\n",
       "    </tr>\n",
       "    <tr>\n",
       "      <th>9</th>\n",
       "      <td>4</td>\n",
       "      <td>2</td>\n",
       "    </tr>\n",
       "  </tbody>\n",
       "</table>\n",
       "</div>"
      ],
      "text/plain": [
       "   X  Y\n",
       "0  7  1\n",
       "1  2  2\n",
       "2  0  0\n",
       "3  3  1\n",
       "4  4  2\n",
       "5  2  3\n",
       "6  5  4\n",
       "7  0  0\n",
       "8  3  1\n",
       "9  4  2"
      ]
     },
     "execution_count": 8,
     "metadata": {},
     "output_type": "execute_result"
    }
   ],
   "source": [
    "#For each value, count the difference back to the previous zero\n",
    "#(or the start of the Series, whichever is closer). \n",
    "#Make this a new column 'Y'.\n",
    "df_12 = pd.DataFrame({'X': [7, 2, 0, 3, 4, 2, 5, 0, 3, 4]})\n",
    "izero = np.r_[-1, (df_12 == 0).values.nonzero()[0]]  # indices of zeros\n",
    "idx = np.arange(len(df_12))\n",
    "y = df_12['X'] != 0\n",
    "df_12['Y'] = idx - izero[np.searchsorted(izero - 1, idx) - 1]\n",
    "df_12"
   ]
  },
  {
   "cell_type": "code",
   "execution_count": 9,
   "metadata": {},
   "outputs": [
    {
     "data": {
      "text/plain": [
       "[(5, 7), (6, 4), (2, 5)]"
      ]
     },
     "execution_count": 9,
     "metadata": {},
     "output_type": "execute_result"
    }
   ],
   "source": [
    "#Create a list of the column-row index locations of the 3 largest values in this DataFrame. \n",
    "df_13 = pd.DataFrame(np.random.RandomState(30).randint(1, 101, size=(8, 8)))\n",
    "df_13.unstack().sort_values()[-3:].index.tolist()"
   ]
  }
 ],
 "metadata": {
  "kernelspec": {
   "display_name": "Python 3",
   "language": "python",
   "name": "python3"
  },
  "language_info": {
   "codemirror_mode": {
    "name": "ipython",
    "version": 3
   },
   "file_extension": ".py",
   "mimetype": "text/x-python",
   "name": "python",
   "nbconvert_exporter": "python",
   "pygments_lexer": "ipython3",
   "version": "3.6.12"
  }
 },
 "nbformat": 4,
 "nbformat_minor": 2
}
