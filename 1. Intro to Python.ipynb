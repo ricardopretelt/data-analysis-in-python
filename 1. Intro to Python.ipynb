{
 "cells": [
  {
   "cell_type": "markdown",
   "metadata": {},
   "source": [
    "# Intro to python"
   ]
  },
  {
   "cell_type": "markdown",
   "metadata": {},
   "source": [
    "## Variables in python\n",
    "\n",
    "- Each variable has a name (from which is referred) and a type. <br>\n",
    "- It is different uppercase and lowercase. <br>\n",
    "- Python wil define the most possible type of the variable when it is assigned. It is not needed to declare it.\n",
    "\n",
    "```python\n",
    "# Assigning a value\n",
    "variable = value\n",
    "# Assigning multiple values\n",
    "variable1, variable2 = value1, value2\n",
    "```"
   ]
  },
  {
   "cell_type": "markdown",
   "metadata": {},
   "source": [
    "### Numbers in python\n",
    "\n",
    "The 2 types for numbers are integer and float\n",
    "\n",
    "```python\n",
    "int = 2\n",
    "float = 2.5\n",
    "```"
   ]
  },
  {
   "cell_type": "markdown",
   "metadata": {},
   "source": [
    "### Text in python\n",
    "\n",
    "For texts it is used type `str` (strings). It can be assigned as a single string or multiline.\n",
    "\n",
    "```python\n",
    "string = \"This is a string\"\n",
    "string = 'This is a string'\n",
    "multiline = \"\"\"Multi\n",
    "                 line\"\"\"\n",
    "multiline = '''Multi\n",
    "                 line'''\n",
    "```"
   ]
  },
  {
   "cell_type": "markdown",
   "metadata": {},
   "source": [
    "### Lists\n",
    "\n",
    "Lists are ordered sets of elements of the same or different type. <br>\n",
    "The lists can be modified.\n",
    "\n",
    "```python\n",
    "list_of_numbers = [1,2,3]\n",
    "list_of_characters = ['a', 'b', 'c']\n",
    "list_of_lists = [[1,2], [3,4], [5,6]]\n",
    "mixed_list = [1, 'Group', [1,2,3,4]]\n",
    "empty_list = []\n",
    "```"
   ]
  },
  {
   "cell_type": "markdown",
   "metadata": {},
   "source": [
    "### Tuples\n",
    "\n",
    "Tuples are ordered sets of elements of the same or different type. <br>\n",
    "Tuples cannot be modified after created\n",
    "\n",
    "```python\n",
    "tuple_of_numbers = (1,2,3)\n",
    "tuple_of_strings = ('a', 'b', 'c')\n",
    "tuple_of_lists = ([1,2], [3,4], [5,6])\n",
    "mixedtuple = (1, 'Group', [1,2,3,4])\n",
    "```"
   ]
  },
  {
   "cell_type": "markdown",
   "metadata": {},
   "source": [
    "### Dictionaries\n",
    "\n",
    "Dictionaries are sets of elements where each element can be identified by a unique key\n",
    "\n",
    "```python\n",
    "dict_of_numbers = {'k1': 1, 'k2': 2}\n",
    "dict_of_strings = {'k1': 'a', 'k2': 'b', 'k3': 'c'}\n",
    "dict_of_lists = {'k1': [1,2], 'k2': [3,4], 'k3': [5,6]}\n",
    "mixedDict = {'k1': 1, 'k2': 'Group', 'k3': [1,2,3,4]}\n",
    "```"
   ]
  },
  {
   "cell_type": "markdown",
   "metadata": {},
   "source": [
    "### Boolean\n",
    "\n",
    "A boolean is variable that can only take the values: `True` or `False`:\n",
    "\n",
    "```python\n",
    "true = true\n",
    "false = False\n",
    "```"
   ]
  },
  {
   "cell_type": "markdown",
   "metadata": {},
   "source": [
    "### None\n",
    "\n",
    "Also known as Null (NaN). In Python it is called `NoneType`:\n",
    "\n",
    "```python\n",
    "null = None\n",
    "```"
   ]
  },
  {
   "cell_type": "markdown",
   "metadata": {},
   "source": [
    "## Operations in python"
   ]
  },
  {
   "cell_type": "markdown",
   "metadata": {},
   "source": [
    "### Arithmetic operators\n",
    "Python performs the operations differently according data type.\n",
    "\n",
    "| Symbol | Task Performed |\n",
    "|----|---|\n",
    "| +  | Addition |\n",
    "| -  | Subtraction |\n",
    "| /  | division |\n",
    "| %  | mod |\n",
    "| *  | multiplication |\n",
    "| //  | floor division |\n",
    "| **  | exponentiation |\n",
    "| ~   | negation |"
   ]
  },
  {
   "cell_type": "markdown",
   "metadata": {},
   "source": [
    "### Relational operators\n",
    "\n",
    "To compare Python variables.\n",
    "\n",
    "| Symbol | Task Performed |\n",
    "|----|---|\n",
    "| == | True, if values are equal |\n",
    "| is | True, if identical, i.e. the **same** object  |\n",
    "| !=  | True, if not equal to |\n",
    "| < | less than |\n",
    "| > | greater than |\n",
    "| <=  | less than or equal to |\n",
    "| >=  | greater than or equal to |\n",
    "| in  | test pertenence to a collection (list, set, dictionary) |"
   ]
  },
  {
   "cell_type": "markdown",
   "metadata": {},
   "source": [
    "### Multiple Variable assignation\n",
    "```python\n",
    "a,b=variable1, variable2\n",
    "\n",
    "# Interchange the values of variables\n",
    "a,b =b,a\n",
    "```"
   ]
  },
  {
   "source": [
    "## Types of errors in python"
   ],
   "cell_type": "markdown",
   "metadata": {}
  },
  {
   "source": [
    "### SyntaxError\n",
    "It means that something is badly written, for example incorrect punctuation, a not expected command, a missinng parenthesis.\n",
    "### NameError\n",
    "It means that you are trying to use a word that might be a variable but it was not defined\n"
   ],
   "cell_type": "markdown",
   "metadata": {}
  },
  {
   "cell_type": "markdown",
   "metadata": {},
   "source": [
    "## To print in python"
   ]
  },
  {
   "cell_type": "code",
   "execution_count": 2,
   "metadata": {},
   "outputs": [
    {
     "name": "stdout",
     "output_type": "stream",
     "text": [
      "Hello world\n"
     ]
    }
   ],
   "source": [
    "# To print strings\n",
    "print(\"Hello world\")"
   ]
  },
  {
   "cell_type": "code",
   "execution_count": 3,
   "metadata": {},
   "outputs": [
    {
     "name": "stdout",
     "output_type": "stream",
     "text": [
      "Integer:  2\n"
     ]
    }
   ],
   "source": [
    "# To print a variable\n",
    "value=2\n",
    "print(\"Integer: \",value)"
   ]
  },
  {
   "cell_type": "code",
   "execution_count": 4,
   "metadata": {},
   "outputs": [
    {
     "name": "stdout",
     "output_type": "stream",
     "text": [
      "hello my name is Ricardo!\n"
     ]
    }
   ],
   "source": [
    "# To concatenate and print strings\n",
    "my_name='Ricardo'\n",
    "print('hello my name is '+my_name+'!')"
   ]
  },
  {
   "cell_type": "code",
   "execution_count": 5,
   "metadata": {},
   "outputs": [
    {
     "data": {
      "text/plain": [
       "True"
      ]
     },
     "execution_count": 5,
     "metadata": {},
     "output_type": "execute_result"
    }
   ],
   "source": [
    "# To print \"\" in console \n",
    "'My name is \"Ricardo\"' == \"My name is \\\"Ricardo\\\"\""
   ]
  },
  {
   "cell_type": "code",
   "execution_count": 6,
   "metadata": {},
   "outputs": [
    {
     "name": "stdout",
     "output_type": "stream",
     "text": [
      "This is  \n",
      "                a multiline\n"
     ]
    }
   ],
   "source": [
    "# To print multiline string\n",
    "\n",
    "multiline = \"\"\"This is  \n",
    "                a multiline\"\"\"\n",
    "print(multiline)"
   ]
  },
  {
   "cell_type": "code",
   "execution_count": 7,
   "metadata": {},
   "outputs": [
    {
     "name": "stdout",
     "output_type": "stream",
     "text": [
      "My height is 1.7 meters tall and \n",
      "my weight is 60.13 kilograms\n"
     ]
    }
   ],
   "source": [
    "# Use of variables while printing strings\n",
    "height = 1.70\n",
    "weight = 60.13 \n",
    "\n",
    "my_string=f\"My height is {height} meters tall and \\nmy weight is {weight} kilograms\"\n",
    "print(my_string)"
   ]
  },
  {
   "cell_type": "code",
   "execution_count": 8,
   "metadata": {},
   "outputs": [
    {
     "data": {
      "text/plain": [
       "'My height is 1.7 meters tall and my weight is 60.13 kilograms'"
      ]
     },
     "execution_count": 8,
     "metadata": {},
     "output_type": "execute_result"
    }
   ],
   "source": [
    "# Another way for the use of variables while printing\n",
    "\"My height is {h} meters tall and my weight is {w} kilograms\".format(h= height, w=weight)"
   ]
  },
  {
   "cell_type": "code",
   "execution_count": 9,
   "metadata": {},
   "outputs": [
    {
     "data": {
      "text/plain": [
       "'My weight is 60.1 kilograms'"
      ]
     },
     "execution_count": 9,
     "metadata": {},
     "output_type": "execute_result"
    }
   ],
   "source": [
    "# Specify precision while printing variables in string\n",
    "f\"My weight is {weight:.1f} kilograms\""
   ]
  },
  {
   "cell_type": "code",
   "execution_count": 10,
   "metadata": {},
   "outputs": [
    {
     "data": {
      "text/plain": [
       "'I am 15 cm taller than you'"
      ]
     },
     "execution_count": 10,
     "metadata": {},
     "output_type": "execute_result"
    }
   ],
   "source": [
    "# Use of functions while printing\n",
    "your_height=1.55\n",
    "f\"I am { round( (height - your_height)* 100 )  } cm taller than you\""
   ]
  },
  {
   "cell_type": "markdown",
   "metadata": {},
   "source": [
    "## Built-in functions in Python"
   ]
  },
  {
   "cell_type": "code",
   "execution_count": 11,
   "metadata": {
    "scrolled": true
   },
   "outputs": [
    {
     "data": {
      "text/plain": [
       "str"
      ]
     },
     "execution_count": 11,
     "metadata": {},
     "output_type": "execute_result"
    }
   ],
   "source": [
    "# Determine the type of a variable\n",
    "type(my_string)"
   ]
  },
  {
   "cell_type": "code",
   "execution_count": 3,
   "metadata": {},
   "outputs": [],
   "source": [
    "# To convert one type of variable to another if possible"
   ]
  },
  {
   "cell_type": "markdown",
   "metadata": {},
   "source": [
    "```python\n",
    "int(<variable>)\n",
    "float(<variable>)\n",
    "str(<variable>)\n",
    "bool(<variable>)\n",
    "list(<variable>)\n",
    "tuple(<variable>)\n",
    "dict(<variable>)\n",
    "```"
   ]
  },
  {
   "cell_type": "code",
   "execution_count": 6,
   "metadata": {},
   "outputs": [
    {
     "name": "stdout",
     "output_type": "stream",
     "text": [
      "Please enter an integer:9\n",
      "The squared root is: 3.0\n"
     ]
    }
   ],
   "source": [
    "# To read variable from keyboard\n",
    "input1 = int(input(\"Please enter an integer:\"))\n",
    "print(\"The squared root is:\",input1**0.5)"
   ]
  },
  {
   "cell_type": "code",
   "execution_count": 7,
   "metadata": {},
   "outputs": [
    {
     "data": {
      "text/plain": [
       "2"
      ]
     },
     "execution_count": 7,
     "metadata": {},
     "output_type": "execute_result"
    }
   ],
   "source": [
    "# Absolute value of a number\n",
    "abs(-2)"
   ]
  },
  {
   "cell_type": "code",
   "execution_count": 8,
   "metadata": {},
   "outputs": [
    {
     "data": {
      "text/plain": [
       "4.31"
      ]
     },
     "execution_count": 8,
     "metadata": {},
     "output_type": "execute_result"
    }
   ],
   "source": [
    "# Round a float number\n",
    "round(4.312321, 2)"
   ]
  },
  {
   "cell_type": "code",
   "execution_count": 9,
   "metadata": {},
   "outputs": [
    {
     "data": {
      "text/plain": [
       "2"
      ]
     },
     "execution_count": 9,
     "metadata": {},
     "output_type": "execute_result"
    }
   ],
   "source": [
    "# To find the minimum value of a list\n",
    "list_built=[2,3,4,6,20]\n",
    "min(list_built)"
   ]
  },
  {
   "cell_type": "code",
   "execution_count": 10,
   "metadata": {},
   "outputs": [
    {
     "data": {
      "text/plain": [
       "20"
      ]
     },
     "execution_count": 10,
     "metadata": {},
     "output_type": "execute_result"
    }
   ],
   "source": [
    "# To find the maximum value of a list\n",
    "list_built=[2,3,4,6,20]\n",
    "max(list_built)"
   ]
  },
  {
   "cell_type": "code",
   "execution_count": 12,
   "metadata": {},
   "outputs": [
    {
     "name": "stdout",
     "output_type": "stream",
     "text": [
      "range(1, 10)\n"
     ]
    }
   ],
   "source": [
    "# To define a sequence of numbers\n",
    "print(range(1,10,1))"
   ]
  },
  {
   "cell_type": "code",
   "execution_count": 13,
   "metadata": {},
   "outputs": [
    {
     "data": {
      "text/plain": [
       "7"
      ]
     },
     "execution_count": 13,
     "metadata": {},
     "output_type": "execute_result"
    }
   ],
   "source": [
    "# To get the length of a list\n",
    "len_list=[2,2,3,4,5,6,7]\n",
    "len(len_list)"
   ]
  },
  {
   "source": [
    "## Loops in python"
   ],
   "cell_type": "markdown",
   "metadata": {}
  },
  {
   "cell_type": "code",
   "execution_count": 36,
   "metadata": {},
   "outputs": [
    {
     "output_type": "stream",
     "name": "stdout",
     "text": [
      "car\nbus\nbike\nairplane\n"
     ]
    }
   ],
   "source": [
    "# For loop\n",
    "vehicles=[\"car\",\"bus\",\"bike\",\"airplane\"]\n",
    "for i in vehicles:\n",
    "    print(i)"
   ]
  },
  {
   "cell_type": "code",
   "execution_count": 37,
   "metadata": {},
   "outputs": [
    {
     "output_type": "stream",
     "name": "stdout",
     "text": [
      "car\nbus\n"
     ]
    }
   ],
   "source": [
    "# Use of break to stop a loop\n",
    "for i in vehicles:\n",
    "    if i==\"bike\":\n",
    "        break\n",
    "    else:\n",
    "        print(i)"
   ]
  },
  {
   "cell_type": "code",
   "execution_count": 38,
   "metadata": {},
   "outputs": [
    {
     "output_type": "stream",
     "name": "stdout",
     "text": [
      "car\nbus\nairplane\n"
     ]
    }
   ],
   "source": [
    "# Use of continue to pass to the next iteration\n",
    "for i in vehicles:\n",
    "    if i==\"bike\":\n",
    "        continue\n",
    "    else:\n",
    "        print(i)"
   ]
  },
  {
   "cell_type": "code",
   "execution_count": 39,
   "metadata": {},
   "outputs": [
    {
     "output_type": "stream",
     "name": "stdout",
     "text": [
      "car\nbus\nbike\n"
     ]
    }
   ],
   "source": [
    "# While loop\n",
    "shell=0\n",
    "while shell<3:\n",
    "    print(vehicles[shell])\n",
    "    shell+=1"
   ]
  },
  {
   "source": [
    "## String management"
   ],
   "cell_type": "markdown",
   "metadata": {}
  },
  {
   "cell_type": "code",
   "execution_count": 43,
   "metadata": {},
   "outputs": [
    {
     "output_type": "execute_result",
     "data": {
      "text/plain": [
       "'i'"
      ]
     },
     "metadata": {},
     "execution_count": 43
    }
   ],
   "source": [
    "# Last value in a string\n",
    "first_string=\"Mississippi\"\n",
    "first_string[-1]"
   ]
  },
  {
   "cell_type": "code",
   "execution_count": 44,
   "metadata": {},
   "outputs": [
    {
     "output_type": "execute_result",
     "data": {
      "text/plain": [
       "'iss'"
      ]
     },
     "metadata": {},
     "execution_count": 44
    }
   ],
   "source": [
    "# Select a specific subset in a string\n",
    "first_string[1:4]"
   ]
  },
  {
   "cell_type": "code",
   "execution_count": 46,
   "metadata": {},
   "outputs": [
    {
     "output_type": "stream",
     "name": "stdout",
     "text": [
      "Mississippi Queen\n"
     ]
    }
   ],
   "source": [
    "# Concatenate strings\n",
    "second_string=first_string+\" \"+\"Queen\"\n",
    "print(second_string)"
   ]
  },
  {
   "cell_type": "code",
   "execution_count": 47,
   "metadata": {},
   "outputs": [
    {
     "output_type": "execute_result",
     "data": {
      "text/plain": [
       "'mississippi queen'"
      ]
     },
     "metadata": {},
     "execution_count": 47
    }
   ],
   "source": [
    "# Return lower case characters in string\n",
    "second_string.lower()"
   ]
  },
  {
   "cell_type": "code",
   "execution_count": 49,
   "metadata": {},
   "outputs": [
    {
     "output_type": "execute_result",
     "data": {
      "text/plain": [
       "'MISSISSIPPI QUEEN'"
      ]
     },
     "metadata": {},
     "execution_count": 49
    }
   ],
   "source": [
    "# Return upper case characters in string\n",
    "second_string.upper()"
   ]
  },
  {
   "cell_type": "code",
   "execution_count": 53,
   "metadata": {},
   "outputs": [
    {
     "output_type": "execute_result",
     "data": {
      "text/plain": [
       "['Mississippi', 'Queen']"
      ]
     },
     "metadata": {},
     "execution_count": 53
    }
   ],
   "source": [
    "# Return a list of split strings. The argument is the separator\n",
    "string_list=second_string.split(\" \")\n",
    "string_list"
   ]
  },
  {
   "cell_type": "code",
   "execution_count": 61,
   "metadata": {},
   "outputs": [
    {
     "output_type": "execute_result",
     "data": {
      "text/plain": [
       "['Little is known of Platt’s early life, except that he was the son of Hugh Platt, of Aldenham, and was apprenticed to a London brewer. ',\n",
       " 'His date of birth can be inferred from his portrait, which says he was in his 76th year in 1600.He became a master brewer of the Worshipful Company of Brewers and the owner of the Old Swan brewery in James Street, London. ',\n",
       " 'In 1576 and 1581 he served as Master of the Worshipful Company of Brewers. He also became an Alderman of London.']"
      ]
     },
     "metadata": {},
     "execution_count": 61
    }
   ],
   "source": [
    "# To split text by lines\n",
    "full_text=\"\"\"Little is known of Platt’s early life, except that he was the son of Hugh Platt, of Aldenham, and was apprenticed to a London brewer. \n",
    "His date of birth can be inferred from his portrait, which says he was in his 76th year in 1600.He became a master brewer of the Worshipful Company of Brewers and the owner of the Old Swan brewery in James Street, London. \n",
    "In 1576 and 1581 he served as Master of the Worshipful Company of Brewers. He also became an Alderman of London.\"\"\"\n",
    "split_text=full_text.split(\"\\n\")\n",
    "split_text"
   ]
  },
  {
   "cell_type": "code",
   "execution_count": 62,
   "metadata": {},
   "outputs": [
    {
     "output_type": "execute_result",
     "data": {
      "text/plain": [
       "'Little is known of Platt’s early life, except that he was the son of Hugh Platt, of Aldenham, and was apprenticed to a London brewer. '"
      ]
     },
     "metadata": {},
     "execution_count": 62
    }
   ],
   "source": [
    "split_text[0]"
   ]
  },
  {
   "cell_type": "code",
   "execution_count": 65,
   "metadata": {},
   "outputs": [
    {
     "output_type": "stream",
     "name": "stdout",
     "text": [
      "Mississippi Queen\n"
     ]
    }
   ],
   "source": [
    "# To join strings back again. The method is applied to the before named separator and the argument is the list\n",
    "print(\" \".join(string_list))"
   ]
  },
  {
   "cell_type": "code",
   "execution_count": 68,
   "metadata": {},
   "outputs": [
    {
     "output_type": "stream",
     "name": "stdout",
     "text": [
      "['strong!!!!']\n"
     ]
    }
   ],
   "source": [
    "# To clean the space in a string\n",
    "cluttered_string=\"          strong!!!!\"\n",
    "print(cluttered_string.split())"
   ]
  },
  {
   "cell_type": "code",
   "execution_count": 69,
   "metadata": {},
   "outputs": [
    {
     "output_type": "stream",
     "name": "stdout",
     "text": [
      "['          strong', '', '', '', '']\n"
     ]
    }
   ],
   "source": [
    "# To clean from a specific character\n",
    "print(cluttered_string.split(\"!\"))"
   ]
  },
  {
   "cell_type": "code",
   "execution_count": 70,
   "metadata": {},
   "outputs": [
    {
     "output_type": "stream",
     "name": "stdout",
     "text": [
      "__________strong!!!!\n"
     ]
    }
   ],
   "source": [
    "# Use of replace to change the first argument with second in the method\n",
    "print(cluttered_string.replace(\" \",\"_\"))"
   ]
  },
  {
   "cell_type": "code",
   "execution_count": 71,
   "metadata": {},
   "outputs": [
    {
     "output_type": "stream",
     "name": "stdout",
     "text": [
      "13\n"
     ]
    }
   ],
   "source": [
    "# Use of find to encounter the first index where appears a string argument\n",
    "print(cluttered_string.find('o'))"
   ]
  },
  {
   "cell_type": "markdown",
   "metadata": {},
   "source": [
    "## List management"
   ]
  },
  {
   "cell_type": "code",
   "execution_count": 5,
   "metadata": {},
   "outputs": [
    {
     "data": {
      "text/plain": [
       "[1, 2, 3, 4, 5]"
      ]
     },
     "execution_count": 5,
     "metadata": {},
     "output_type": "execute_result"
    }
   ],
   "source": [
    "# Define lists\n",
    "a= [1,2,3,4,5]\n",
    "a"
   ]
  },
  {
   "cell_type": "code",
   "execution_count": 6,
   "metadata": {},
   "outputs": [
    {
     "data": {
      "text/plain": [
       "5"
      ]
     },
     "execution_count": 6,
     "metadata": {},
     "output_type": "execute_result"
    }
   ],
   "source": [
    "# To select last value from a list\n",
    "a[-1]"
   ]
  },
  {
   "cell_type": "code",
   "execution_count": 7,
   "metadata": {
    "scrolled": true
   },
   "outputs": [
    {
     "data": {
      "text/plain": [
       "[2, 3]"
      ]
     },
     "execution_count": 7,
     "metadata": {},
     "output_type": "execute_result"
    }
   ],
   "source": [
    "# To select a specific subset from a list\n",
    "a[1:-2]"
   ]
  },
  {
   "cell_type": "code",
   "execution_count": 8,
   "metadata": {},
   "outputs": [
    {
     "data": {
      "text/plain": [
       "[2, 3, 4, 5]"
      ]
     },
     "execution_count": 8,
     "metadata": {},
     "output_type": "execute_result"
    }
   ],
   "source": [
    "# To access elements onward the second position\n",
    "a[1:]"
   ]
  },
  {
   "cell_type": "code",
   "execution_count": 43,
   "metadata": {},
   "outputs": [
    {
     "data": {
      "text/plain": [
       "[1, 2, [1, 1, (3, 2)]]"
      ]
     },
     "execution_count": 43,
     "metadata": {},
     "output_type": "execute_result"
    }
   ],
   "source": [
    "# A list inside a list\n",
    "my_list=[1,2,[a,b,c]]\n",
    "my_list"
   ]
  },
  {
   "cell_type": "code",
   "execution_count": 45,
   "metadata": {},
   "outputs": [
    {
     "data": {
      "text/plain": [
       "(3, 2)"
      ]
     },
     "execution_count": 45,
     "metadata": {},
     "output_type": "execute_result"
    }
   ],
   "source": [
    "# To access an element inside the second list\n",
    "my_list[2][2]"
   ]
  },
  {
   "cell_type": "code",
   "execution_count": 22,
   "metadata": {},
   "outputs": [
    {
     "output_type": "stream",
     "name": "stdout",
     "text": [
      "[('Mary', 21), ('Peter', 23), ('John', 26), ('Paul', 22)]\n"
     ]
    }
   ],
   "source": [
    "# Use of zip to concatenate lists\n",
    "names=[\"Mary\", \"Peter\", \"John\", \"Paul\"]\n",
    "ages=[21,23,26,22]\n",
    "names_and_ages=zip(names,ages)\n",
    "print(list(names_and_ages))"
   ]
  },
  {
   "cell_type": "code",
   "execution_count": 23,
   "metadata": {},
   "outputs": [
    {
     "output_type": "execute_result",
     "data": {
      "text/plain": [
       "['Mary', 'Peter', 'John', 'Paul', 'George']"
      ]
     },
     "metadata": {},
     "execution_count": 23
    }
   ],
   "source": [
    "# Use of append to grow a list\n",
    "names.append(\"George\")\n",
    "names"
   ]
  },
  {
   "cell_type": "code",
   "execution_count": 7,
   "metadata": {},
   "outputs": [
    {
     "output_type": "execute_result",
     "data": {
      "text/plain": [
       "['Mary', 'Peter', 'John', 'Paul', 'George', 21, 23, 26, 22, 'a', 'b', 'c']"
      ]
     },
     "metadata": {},
     "execution_count": 7
    }
   ],
   "source": [
    "# Use of + to join 2 or more lists\n",
    "bigger_list=names+ages+[\"a\",\"b\",\"c\"]\n",
    "bigger_list"
   ]
  },
  {
   "cell_type": "code",
   "execution_count": 10,
   "metadata": {},
   "outputs": [
    {
     "output_type": "stream",
     "name": "stdout",
     "text": [
      "[0, 2, 4, 6, 8]\n"
     ]
    }
   ],
   "source": [
    "# Use of range to generate a list. First argument: start, second: end not inclusive and third: step\n",
    "range_list=range(0,10,2)\n",
    "print(list(range_list))"
   ]
  },
  {
   "cell_type": "code",
   "execution_count": 14,
   "metadata": {},
   "outputs": [
    {
     "output_type": "execute_result",
     "data": {
      "text/plain": [
       "5"
      ]
     },
     "metadata": {},
     "execution_count": 14
    }
   ],
   "source": [
    "# Obtain the lenght of a list\n",
    "len(range_list)"
   ]
  },
  {
   "cell_type": "code",
   "execution_count": 15,
   "metadata": {},
   "outputs": [
    {
     "output_type": "execute_result",
     "data": {
      "text/plain": [
       "1"
      ]
     },
     "metadata": {},
     "execution_count": 15
    }
   ],
   "source": [
    "# Use of count to know how many times an element appears on a list\n",
    "names.count(\"George\")"
   ]
  },
  {
   "cell_type": "code",
   "execution_count": 28,
   "metadata": {},
   "outputs": [
    {
     "output_type": "execute_result",
     "data": {
      "text/plain": [
       "['George', 'John', 'Mary', 'Paul', 'Peter']"
      ]
     },
     "metadata": {},
     "execution_count": 28
    }
   ],
   "source": [
    "# To sort a list. It is different from the method .sort()\n",
    "sorted(names)"
   ]
  },
  {
   "cell_type": "code",
   "execution_count": 40,
   "metadata": {},
   "outputs": [
    {
     "output_type": "execute_result",
     "data": {
      "text/plain": [
       "[15, 49, 46, 13, 21, 38, 32, 51]"
      ]
     },
     "metadata": {},
     "execution_count": 40
    }
   ],
   "source": [
    "# List comprehension\n",
    "temperatures = [-5, 29, 26, -7, 1, 18, 12, 31]\n",
    "temperatures_adjusted = [temp + 20 for temp in temperatures]\n",
    "temperatures_adjusted"
   ]
  },
  {
   "cell_type": "code",
   "execution_count": 41,
   "metadata": {},
   "outputs": [
    {
     "output_type": "execute_result",
     "data": {
      "text/plain": [
       "[49, 46, 21, 38, 32, 51]"
      ]
     },
     "metadata": {},
     "execution_count": 41
    }
   ],
   "source": [
    "# List comprehension with conditionals\n",
    "temperatures_adjusted = [temp + 20 for temp in temperatures if temp>0]\n",
    "temperatures_adjusted"
   ]
  },
  {
   "cell_type": "code",
   "execution_count": 10,
   "metadata": {},
   "outputs": [
    {
     "data": {
      "text/plain": [
       "5"
      ]
     },
     "execution_count": 10,
     "metadata": {},
     "output_type": "execute_result"
    }
   ],
   "source": [
    "# Lambda function: A simmple function in one line\n",
    "add_two = lambda input:input+2\n",
    "add_two(3)"
   ]
  },
  {
   "cell_type": "code",
   "execution_count": 11,
   "metadata": {
    "scrolled": true
   },
   "outputs": [
    {
     "data": {
      "text/plain": [
       "[0, 2, 4, 6, 8]"
      ]
     },
     "execution_count": 11,
     "metadata": {},
     "output_type": "execute_result"
    }
   ],
   "source": [
    "#Using range to create an initial list and using comprehension lists to modify it\n",
    "x_values = [2*index for index in range(5)]\n",
    "x_values"
   ]
  },
  {
   "cell_type": "markdown",
   "metadata": {},
   "source": [
    "## Tuples management"
   ]
  },
  {
   "cell_type": "code",
   "execution_count": 2,
   "metadata": {},
   "outputs": [
    {
     "data": {
      "text/plain": [
       "(1, 2, 3)"
      ]
     },
     "execution_count": 2,
     "metadata": {},
     "output_type": "execute_result"
    }
   ],
   "source": [
    "tuple_nr=(1,2,3)\n",
    "tuple_nr"
   ]
  },
  {
   "cell_type": "code",
   "execution_count": 32,
   "metadata": {},
   "outputs": [
    {
     "output_type": "execute_result",
     "data": {
      "text/plain": [
       "(1, 2)"
      ]
     },
     "metadata": {},
     "execution_count": 32
    }
   ],
   "source": [
    "# When you have a set of variables and set it to another, it will create a tuple\n",
    "c=1,2\n",
    "c"
   ]
  },
  {
   "cell_type": "code",
   "execution_count": 33,
   "metadata": {},
   "outputs": [
    {
     "output_type": "stream",
     "name": "stdout",
     "text": [
      "1 2\n"
     ]
    }
   ],
   "source": [
    "# Unpack from a tuple to independent variables\n",
    "y,z=c\n",
    "print(y,z)"
   ]
  },
  {
   "cell_type": "code",
   "execution_count": 34,
   "metadata": {},
   "outputs": [
    {
     "output_type": "execute_result",
     "data": {
      "text/plain": [
       "(1,)"
      ]
     },
     "metadata": {},
     "execution_count": 34
    }
   ],
   "source": [
    "# To create a one element tuple\n",
    "one_element_tuple=(1,)\n",
    "one_element_tuple"
   ]
  },
  {
   "cell_type": "code",
   "execution_count": 35,
   "metadata": {},
   "outputs": [
    {
     "data": {
      "text/plain": [
       "(1, 2, 3, 4, 5, 6)"
      ]
     },
     "execution_count": 35,
     "metadata": {},
     "output_type": "execute_result"
    }
   ],
   "source": [
    "# Concatenate tuples\n",
    "tuple1=(1,2,3)\n",
    "tuple2=(4,5,6)\n",
    "tuple3=tuple1+tuple2\n",
    "tuple3"
   ]
  },
  {
   "cell_type": "code",
   "execution_count": 40,
   "metadata": {},
   "outputs": [
    {
     "data": {
      "text/plain": [
       "(1, 2, 3, 1, 2, 3, 1, 2, 3)"
      ]
     },
     "execution_count": 40,
     "metadata": {},
     "output_type": "execute_result"
    }
   ],
   "source": [
    "# Repeat tuples\n",
    "tuple4=tuple1*3\n",
    "tuple4"
   ]
  },
  {
   "cell_type": "code",
   "execution_count": 37,
   "metadata": {},
   "outputs": [
    {
     "data": {
      "text/plain": [
       "True"
      ]
     },
     "execution_count": 37,
     "metadata": {},
     "output_type": "execute_result"
    }
   ],
   "source": [
    "# Validate if an element exists in a tuple\n",
    "1 in tuple1"
   ]
  },
  {
   "cell_type": "code",
   "execution_count": 39,
   "metadata": {},
   "outputs": [
    {
     "data": {
      "text/plain": [
       "0"
      ]
     },
     "execution_count": 39,
     "metadata": {},
     "output_type": "execute_result"
    }
   ],
   "source": [
    "# Returns the index of an element in a tuple\n",
    "tuple1.index(1)"
   ]
  },
  {
   "cell_type": "code",
   "execution_count": 41,
   "metadata": {},
   "outputs": [
    {
     "data": {
      "text/plain": [
       "3"
      ]
     },
     "execution_count": 41,
     "metadata": {},
     "output_type": "execute_result"
    }
   ],
   "source": [
    "# Returns how many times an element is repeated\n",
    "tuple4.count(3)"
   ]
  },
  {
   "cell_type": "markdown",
   "metadata": {},
   "source": [
    "## Dictionaries management"
   ]
  },
  {
   "cell_type": "code",
   "execution_count": 1,
   "metadata": {
    "scrolled": true
   },
   "outputs": [
    {
     "output_type": "execute_result",
     "data": {
      "text/plain": [
       "{'n1': 1, 'n2': 2, 'n3': 3, 'n4': 4}"
      ]
     },
     "metadata": {},
     "execution_count": 1
    }
   ],
   "source": [
    "dictNum = {'n1':1,'n2':2, 'n3':3, 'n4':4}\n",
    "dictNum"
   ]
  },
  {
   "cell_type": "code",
   "execution_count": 2,
   "metadata": {},
   "outputs": [
    {
     "output_type": "execute_result",
     "data": {
      "text/plain": [
       "dict_values([1, 2, 3, 4])"
      ]
     },
     "metadata": {},
     "execution_count": 2
    }
   ],
   "source": [
    "# To get just the values\n",
    "dictNum.values()"
   ]
  },
  {
   "cell_type": "code",
   "execution_count": 3,
   "metadata": {},
   "outputs": [
    {
     "output_type": "stream",
     "name": "stdout",
     "text": [
      "1\n1\n"
     ]
    }
   ],
   "source": [
    "# To get the value that corresponds just to the key entered\n",
    "print(dictNum.get('n1'))\n",
    "print(dictNum['n1'])"
   ]
  },
  {
   "cell_type": "code",
   "execution_count": 4,
   "metadata": {},
   "outputs": [
    {
     "output_type": "stream",
     "name": "stdout",
     "text": [
      "1\n{'n2': 2, 'n3': 3, 'n4': 4}\n"
     ]
    }
   ],
   "source": [
    "# Returns the value of the entered key, and then deletes the key and value\n",
    "print(dictNum.pop('n1'))\n",
    "print(dictNum)"
   ]
  },
  {
   "cell_type": "code",
   "execution_count": 5,
   "metadata": {},
   "outputs": [
    {
     "output_type": "stream",
     "name": "stdout",
     "text": [
      "{'n2': 2, 'n3': 3}\n"
     ]
    }
   ],
   "source": [
    "# del dictionary['key']: Eliminates the value (and the key) associated with the indicated key.\n",
    "del dictNum['n4']\n",
    "print(dictNum)"
   ]
  },
  {
   "cell_type": "code",
   "execution_count": 6,
   "metadata": {},
   "outputs": [
    {
     "output_type": "stream",
     "name": "stdout",
     "text": [
      "{'n2': 2, 'n3': -3, 'n4': 4}\n"
     ]
    }
   ],
   "source": [
    "# Updates the value of a certain key or keys or creates them if they don't exist\n",
    "dictNum.update({'n3':-3})\n",
    "dictNum.update({'n4':4})\n",
    "print(dictNum)"
   ]
  },
  {
   "cell_type": "code",
   "execution_count": 7,
   "metadata": {},
   "outputs": [
    {
     "output_type": "stream",
     "name": "stdout",
     "text": [
      "{'n2': 2, 'n3': -3, 'n4': 4, 'n5': 5}\n"
     ]
    }
   ],
   "source": [
    "# Another way to create another key and value\n",
    "dictNum['n5']=5\n",
    "print(dictNum)"
   ]
  },
  {
   "cell_type": "code",
   "execution_count": 8,
   "metadata": {},
   "outputs": [
    {
     "output_type": "execute_result",
     "data": {
      "text/plain": [
       "dict_keys(['n2', 'n3', 'n4', 'n5'])"
      ]
     },
     "metadata": {},
     "execution_count": 8
    }
   ],
   "source": [
    "# To get just the keys\n",
    "dictNum.keys()"
   ]
  },
  {
   "cell_type": "code",
   "execution_count": 9,
   "metadata": {},
   "outputs": [
    {
     "output_type": "execute_result",
     "data": {
      "text/plain": [
       "['n2', 'n3', 'n4', 'n5']"
      ]
     },
     "metadata": {},
     "execution_count": 9
    }
   ],
   "source": [
    "# To express the keys as list\n",
    "list(dictNum.keys())"
   ]
  },
  {
   "cell_type": "code",
   "execution_count": 10,
   "metadata": {},
   "outputs": [
    {
     "output_type": "stream",
     "name": "stdout",
     "text": [
      "True\nFalse\n"
     ]
    }
   ],
   "source": [
    "# \"key\" in dictionary: returns true (True) or false (False) if the key exists in the dictionary\n",
    "print (\"n2\" in dictNum)\n",
    "print (\"n6\" in dictNum)"
   ]
  },
  {
   "cell_type": "code",
   "execution_count": 11,
   "metadata": {},
   "outputs": [
    {
     "output_type": "stream",
     "name": "stdout",
     "text": [
      "True\nFalse\n"
     ]
    }
   ],
   "source": [
    "# \"value\" in dictionary.values (): returns true (True) or false (False) if the value exists in the dictionary\n",
    "print(2 in dictNum.values())\n",
    "print(6 in dictNum.values())"
   ]
  },
  {
   "cell_type": "code",
   "execution_count": 17,
   "metadata": {},
   "outputs": [
    {
     "output_type": "stream",
     "name": "stdout",
     "text": [
      "dict_items([('n2', 2), ('n3', -3), ('n4', 4), ('n5', 5)])\n"
     ]
    }
   ],
   "source": [
    "# To return all the items as pairs\n",
    "print(dictNum.items())"
   ]
  },
  {
   "cell_type": "code",
   "execution_count": 12,
   "metadata": {},
   "outputs": [
    {
     "output_type": "stream",
     "name": "stdout",
     "text": [
      "{'Peru': 'Lima', 'Colombia': 'Bogota', 'Ecuador': 'Quito', 'Uruguay': 'Montevideo', 'Argentina': 'Buenos Aires'}\n"
     ]
    }
   ],
   "source": [
    "# List comprehension in dictionaries: Combine 2 lists into a dictionary\n",
    "cities=[\"Lima\",\"Bogota\",\"Quito\",\"Montevideo\",\"Buenos Aires\"]\n",
    "countries=[\"Peru\",\"Colombia\",\"Ecuador\",\"Uruguay\",\"Argentina\"]\n",
    "dict_countries={key:value for key,value in zip(countries,cities)}\n",
    "print(dict_countries)"
   ]
  },
  {
   "cell_type": "code",
   "execution_count": 13,
   "metadata": {},
   "outputs": [
    {
     "output_type": "stream",
     "name": "stdout",
     "text": [
      "That key doesn't exist!\n"
     ]
    }
   ],
   "source": [
    "# Try and except methods to get a key. Except avoids getting an error but a message\n",
    "key_to_check = \"Brasil\"\n",
    "try:\n",
    "  print(dict_countries['Brasil'])\n",
    "except KeyError:\n",
    "  print(\"That key doesn't exist!\")\n"
   ]
  },
  {
   "cell_type": "code",
   "execution_count": 15,
   "metadata": {},
   "outputs": [
    {
     "output_type": "stream",
     "name": "stdout",
     "text": [
      "None\n"
     ]
    }
   ],
   "source": [
    "# Get method which if the key does not exist, it returns none\n",
    "print(dict_countries.get('Brasil'))"
   ]
  },
  {
   "cell_type": "markdown",
   "metadata": {},
   "source": [
    "## Sets in python\n",
    "The `set` data type allows to work with sets and perform set operations on these variables. It is defined in braces (`{}`) and elements are separated with commas.\n",
    "\n",
    "```python\n",
    "c = {1,2,3}\n",
    "```"
   ]
  },
  {
   "cell_type": "code",
   "execution_count": 42,
   "metadata": {},
   "outputs": [],
   "source": [
    "# Defining sets\n",
    "c1 = {1, 2, 3, 4, 5, 6}\n",
    "c2 = {2, 4, 6, 8, 10}\n",
    "c3 = {1, 2, 3}"
   ]
  },
  {
   "cell_type": "code",
   "execution_count": 44,
   "metadata": {},
   "outputs": [
    {
     "data": {
      "text/plain": [
       "{1, 2, 3, 4, 5, 6, 8, 10}"
      ]
     },
     "execution_count": 44,
     "metadata": {},
     "output_type": "execute_result"
    }
   ],
   "source": [
    "# Union of sets\n",
    "c1|c2"
   ]
  },
  {
   "cell_type": "code",
   "execution_count": 45,
   "metadata": {},
   "outputs": [
    {
     "data": {
      "text/plain": [
       "{1, 2, 3, 4, 5, 6, 8, 10}"
      ]
     },
     "execution_count": 45,
     "metadata": {},
     "output_type": "execute_result"
    }
   ],
   "source": [
    "# Union with a method\n",
    "c1.union(c2)"
   ]
  },
  {
   "cell_type": "code",
   "execution_count": 46,
   "metadata": {},
   "outputs": [
    {
     "data": {
      "text/plain": [
       "{2, 4, 6}"
      ]
     },
     "execution_count": 46,
     "metadata": {},
     "output_type": "execute_result"
    }
   ],
   "source": [
    "# Intersection of sets\n",
    "c1 & c2"
   ]
  },
  {
   "cell_type": "code",
   "execution_count": 47,
   "metadata": {},
   "outputs": [
    {
     "data": {
      "text/plain": [
       "{2, 4, 6}"
      ]
     },
     "execution_count": 47,
     "metadata": {},
     "output_type": "execute_result"
    }
   ],
   "source": [
    "# Intersection with a method\n",
    "c1.intersection(c2)"
   ]
  },
  {
   "cell_type": "code",
   "execution_count": 48,
   "metadata": {},
   "outputs": [
    {
     "data": {
      "text/plain": [
       "{1, 3, 5}"
      ]
     },
     "execution_count": 48,
     "metadata": {},
     "output_type": "execute_result"
    }
   ],
   "source": [
    "# Difference of sets\n",
    "c1 - c2"
   ]
  },
  {
   "cell_type": "code",
   "execution_count": 50,
   "metadata": {},
   "outputs": [
    {
     "data": {
      "text/plain": [
       "{1, 3, 5}"
      ]
     },
     "execution_count": 50,
     "metadata": {},
     "output_type": "execute_result"
    }
   ],
   "source": [
    "# Difference with a method\n",
    "c1.difference(c2)"
   ]
  },
  {
   "cell_type": "code",
   "execution_count": 51,
   "metadata": {},
   "outputs": [
    {
     "data": {
      "text/plain": [
       "{1, 3, 5, 8, 10}"
      ]
     },
     "execution_count": 51,
     "metadata": {},
     "output_type": "execute_result"
    }
   ],
   "source": [
    "# Exclusive union\n",
    "c1^c2"
   ]
  },
  {
   "cell_type": "code",
   "execution_count": 52,
   "metadata": {},
   "outputs": [
    {
     "data": {
      "text/plain": [
       "{1, 3, 5, 8, 10}"
      ]
     },
     "execution_count": 52,
     "metadata": {},
     "output_type": "execute_result"
    }
   ],
   "source": [
    "# Exclusive union with the method\n",
    "c1.symmetric_difference(c2)"
   ]
  },
  {
   "source": [
    "## Python classes"
   ],
   "cell_type": "markdown",
   "metadata": {}
  },
  {
   "source": [
    "A class is a template for a data type. It describes how can it store information and what methods it can receive. For example, the data type float cannot receive a .get() method, and you cannot use + between dictionaries."
   ],
   "cell_type": "markdown",
   "metadata": {}
  },
  {
   "cell_type": "code",
   "execution_count": 19,
   "metadata": {},
   "outputs": [],
   "source": [
    "# To define an empty class\n",
    "class first_class:\n",
    "    pass"
   ]
  },
  {
   "cell_type": "code",
   "execution_count": 20,
   "metadata": {},
   "outputs": [],
   "source": [
    "# Instantiation: To create an instance of a class to be able to use it. It is similar to call a function\n",
    "# A class instance is also called an object\n",
    "inst=first_class()"
   ]
  },
  {
   "cell_type": "code",
   "execution_count": 21,
   "metadata": {},
   "outputs": [
    {
     "output_type": "stream",
     "name": "stdout",
     "text": [
      "<class '__main__.first_class'>\n"
     ]
    }
   ],
   "source": [
    "# To define classes and create objects to represent the responsibilities of a program is known as Object Oriented Programming.\n",
    "# The type function returns the class from an object\n",
    "print(type(inst))"
   ]
  },
  {
   "cell_type": "code",
   "execution_count": 2,
   "metadata": {},
   "outputs": [
    {
     "output_type": "stream",
     "name": "stdout",
     "text": [
      "Rockstar\n"
     ]
    }
   ],
   "source": [
    "# Class variables: Are classes that can be used in every instance of that class\n",
    "class Music:\n",
    "  class_var = \"Rockstar\"\n",
    " \n",
    "drummer = Music()\n",
    "# Access the variable as object.variable \n",
    "print(drummer.class_var)"
   ]
  },
  {
   "cell_type": "code",
   "execution_count": 4,
   "metadata": {},
   "outputs": [
    {
     "output_type": "execute_result",
     "data": {
      "text/plain": [
       "'You should call your doctor today'"
      ]
     },
     "metadata": {},
     "execution_count": 4
    }
   ],
   "source": [
    "# Class methods: Are functions defined as part of a class. The first argument is the object calling the class, which by convention is self. \n",
    "class Notes:\n",
    "    def call_doctor(self):\n",
    "        return \"You should call your doctor today\"\n",
    "post_note = Notes()\n",
    "post_note.call_doctor()"
   ]
  },
  {
   "cell_type": "code",
   "execution_count": 5,
   "metadata": {},
   "outputs": [
    {
     "output_type": "stream",
     "name": "stdout",
     "text": [
      "8.045\n"
     ]
    }
   ],
   "source": [
    "# Methods with arguments: If you use a class variable in a class function you should call it with self.variable\n",
    "class miles_to_km_converter:\n",
    "    kms_in_a_mile=1.609\n",
    "    def mile_to_km(self,miles):\n",
    "        return miles*self.kms_in_a_mile\n",
    "converter=miles_to_km_converter()\n",
    "kms_in_5_miles=converter.mile_to_km(5)\n",
    "print(kms_in_5_miles)"
   ]
  },
  {
   "cell_type": "code",
   "execution_count": 6,
   "metadata": {},
   "outputs": [
    {
     "output_type": "stream",
     "name": "stdout",
     "text": [
      "hi\n"
     ]
    }
   ],
   "source": [
    "# Constructors: Also called dunder methods because require double underscore. The most important is __init__() which it is called every time a class is instantiated\n",
    "class say_hi:\n",
    "    def __init__(self):\n",
    "        print(\"hi\")\n",
    "hello=say_hi()"
   ]
  },
  {
   "cell_type": "code",
   "execution_count": 27,
   "metadata": {},
   "outputs": [],
   "source": [
    "# Instance variables: They are data held by a specific object and are not shared to all instances.\n",
    "class simple_class:\n",
    "    pass\n",
    "instance_1=simple_class()\n",
    "instance_2=simple_class()\n",
    "instance_1.var_1=\"value for instance 1\"\n",
    "instance_2.var_2=\"value for instance 2\"\n",
    "    "
   ]
  },
  {
   "cell_type": "code",
   "execution_count": 29,
   "metadata": {},
   "outputs": [
    {
     "output_type": "execute_result",
     "data": {
      "text/plain": [
       "True"
      ]
     },
     "metadata": {},
     "execution_count": 29
    }
   ],
   "source": [
    "# Function hasattr(): Checks if given object has given attribute, for class and instance variables\n",
    "# For a class variable\n",
    "class valid_class:\n",
    "    value=\"valid\"\n",
    "obj=valid_class()\n",
    "hasattr(obj,'value')"
   ]
  },
  {
   "cell_type": "code",
   "execution_count": 30,
   "metadata": {},
   "outputs": [
    {
     "output_type": "execute_result",
     "data": {
      "text/plain": [
       "True"
      ]
     },
     "metadata": {},
     "execution_count": 30
    }
   ],
   "source": [
    "# For a instance variable\n",
    "hasattr(instance_1,'var_1')"
   ]
  },
  {
   "cell_type": "code",
   "execution_count": 32,
   "metadata": {},
   "outputs": [
    {
     "output_type": "stream",
     "name": "stdout",
     "text": [
      "valid\n"
     ]
    }
   ],
   "source": [
    "# Function getattr(): Get the value of a given object and attribute\n",
    "print(getattr(obj,'value'))"
   ]
  },
  {
   "cell_type": "code",
   "execution_count": 34,
   "metadata": {},
   "outputs": [
    {
     "output_type": "stream",
     "name": "stdout",
     "text": [
      "google.com\nwikipedia.org\n"
     ]
    }
   ],
   "source": [
    "# Use of self in the constructor to create objects for every entry you need\n",
    "class search_engine:\n",
    "    def __init__(self,url):\n",
    "        self.url=url\n",
    "google= search_engine(\"google.com\")\n",
    "wikipedia=search_engine(\"wikipedia.org\")\n",
    "print(google.url)\n",
    "print(wikipedia.url)"
   ]
  },
  {
   "cell_type": "code",
   "execution_count": 36,
   "metadata": {},
   "outputs": [
    {
     "output_type": "stream",
     "name": "stdout",
     "text": [
      "www.google.com\nwww.wikipedia.org\n"
     ]
    }
   ],
   "source": [
    "# As self modify objects and not the class itself, you can perform other operations with it\n",
    "class search_engine:\n",
    "    w_prefix=\"www.\"\n",
    "    def __init__(self,url):\n",
    "        self.url=url\n",
    "    def w_add(self):\n",
    "        return self.w_prefix+self.url \n",
    "google= search_engine(\"google.com\")\n",
    "wikipedia=search_engine(\"wikipedia.org\")\n",
    "print(google.w_add())\n",
    "print(wikipedia.w_add())"
   ]
  },
  {
   "cell_type": "code",
   "execution_count": 37,
   "metadata": {},
   "outputs": [
    {
     "output_type": "execute_result",
     "data": {
      "text/plain": [
       "['__class__',\n",
       " '__delattr__',\n",
       " '__dict__',\n",
       " '__dir__',\n",
       " '__doc__',\n",
       " '__eq__',\n",
       " '__format__',\n",
       " '__ge__',\n",
       " '__getattribute__',\n",
       " '__gt__',\n",
       " '__hash__',\n",
       " '__init__',\n",
       " '__init_subclass__',\n",
       " '__le__',\n",
       " '__lt__',\n",
       " '__module__',\n",
       " '__ne__',\n",
       " '__new__',\n",
       " '__reduce__',\n",
       " '__reduce_ex__',\n",
       " '__repr__',\n",
       " '__setattr__',\n",
       " '__sizeof__',\n",
       " '__str__',\n",
       " '__subclasshook__',\n",
       " '__weakref__',\n",
       " 'url',\n",
       " 'w_add',\n",
       " 'w_prefix']"
      ]
     },
     "metadata": {},
     "execution_count": 37
    }
   ],
   "source": [
    "# Use of dir() to investigate attributes of an object at runtime\n",
    "# You can use type() in python native data types because they are objects from the classes float, str, list and dict\n",
    "dir(google)"
   ]
  },
  {
   "cell_type": "code",
   "execution_count": 38,
   "metadata": {},
   "outputs": [
    {
     "output_type": "stream",
     "name": "stdout",
     "text": [
      "Joseph Parker Jr\n"
     ]
    }
   ],
   "source": [
    "# Use of __repr__() for string represetation of objects as normally it won't give useful information\n",
    "class employees():\n",
    "    def __init__(self,name):\n",
    "        self.name=name\n",
    "    def __repr__(self):\n",
    "        return self.name\n",
    "joseph=employees(\"Joseph Parker Jr\")\n",
    "print(joseph)"
   ]
  },
  {
   "source": [
    "## Python modules"
   ],
   "cell_type": "markdown",
   "metadata": {}
  },
  {
   "cell_type": "code",
   "execution_count": 5,
   "metadata": {},
   "outputs": [
    {
     "output_type": "stream",
     "name": "stdout",
     "text": [
      "You just used an external library, congrats!\n"
     ]
    }
   ],
   "source": [
    "# Python files are modules, they can contain functions and declarations that can be used as a tool for another file\n",
    "# Modules are also referred as libraries\n",
    "from library import simple_library\n",
    "value=simple_library()\n",
    "print(value)"
   ]
  },
  {
   "cell_type": "markdown",
   "metadata": {},
   "source": [
    "## Help in python"
   ]
  },
  {
   "cell_type": "code",
   "execution_count": 13,
   "metadata": {},
   "outputs": [
    {
     "name": "stdout",
     "output_type": "stream",
     "text": [
      "Help on built-in function max in module builtins:\n",
      "\n",
      "max(...)\n",
      "    max(iterable, *[, default=obj, key=func]) -> value\n",
      "    max(arg1, arg2, *args, *[, key=func]) -> value\n",
      "    \n",
      "    With a single iterable argument, return its biggest item. The\n",
      "    default keyword-only argument specifies an object to return if\n",
      "    the provided iterable is empty.\n",
      "    With two or more arguments, return the largest argument.\n",
      "\n"
     ]
    }
   ],
   "source": [
    "# Help command also shift+tab+tab\n",
    "help(max)"
   ]
  },
  {
   "cell_type": "code",
   "execution_count": 14,
   "metadata": {},
   "outputs": [],
   "source": [
    "# Use of the \"?\" to get help for the commands\n",
    "max?"
   ]
  },
  {
   "cell_type": "code",
   "execution_count": 15,
   "metadata": {},
   "outputs": [],
   "source": [
    "# Use \"?\" to get help for the variables created\n",
    "x=2\n",
    "x?"
   ]
  }
 ],
 "metadata": {
  "kernelspec": {
   "display_name": "Python 3",
   "language": "python",
   "name": "python3"
  },
  "language_info": {
   "codemirror_mode": {
    "name": "ipython",
    "version": 3
   },
   "file_extension": ".py",
   "mimetype": "text/x-python",
   "name": "python",
   "nbconvert_exporter": "python",
   "pygments_lexer": "ipython3",
   "version": "3.8.5-final"
  }
 },
 "nbformat": 4,
 "nbformat_minor": 2
}