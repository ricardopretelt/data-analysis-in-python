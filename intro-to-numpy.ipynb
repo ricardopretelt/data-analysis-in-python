{
 "cells": [
  {
   "cell_type": "markdown",
   "metadata": {
    "colab_type": "text",
    "id": "nslGMsIqGua7"
   },
   "source": [
    "# Intro to Numpy"
   ]
  },
  {
   "cell_type": "markdown",
   "metadata": {
    "colab_type": "text",
    "id": "VJeviWc-If95"
   },
   "source": [
    "### Importing library"
   ]
  },
  {
   "cell_type": "code",
   "execution_count": 2,
   "metadata": {
    "colab": {},
    "colab_type": "code",
    "id": "Ukl2UUJ-EvHZ"
   },
   "outputs": [],
   "source": [
    "# Import library\n",
    "import numpy as np"
   ]
  },
  {
   "cell_type": "markdown",
   "metadata": {
    "colab_type": "text",
    "id": "N9mEE49TInxA"
   },
   "source": [
    "### Scalars in Numpy"
   ]
  },
  {
   "cell_type": "code",
   "execution_count": 3,
   "metadata": {
    "colab": {},
    "colab_type": "code",
    "id": "Vqtnqv5YHF6z"
   },
   "outputs": [],
   "source": [
    "# Numpy array with just a scalar\n",
    "s=np.array(10)"
   ]
  },
  {
   "cell_type": "code",
   "execution_count": 4,
   "metadata": {
    "colab": {
     "base_uri": "https://localhost:8080/",
     "height": 34
    },
    "colab_type": "code",
    "executionInfo": {
     "elapsed": 955,
     "status": "ok",
     "timestamp": 1572111169020,
     "user": {
      "displayName": "Ricardo Pretelt",
      "photoUrl": "https://lh3.googleusercontent.com/a-/AAuE7mA_UalmWpcjMOBsMEnGDEwrJfDxglE2eb4F69L_KHw=s64",
      "userId": "15013903332028054215"
     },
     "user_tz": 300
    },
    "id": "hOnzjXSLIAPd",
    "outputId": "0dc1261b-de55-4d0f-cb7c-7ae591043b90"
   },
   "outputs": [
    {
     "data": {
      "text/plain": [
       "()"
      ]
     },
     "execution_count": 4,
     "metadata": {},
     "output_type": "execute_result"
    }
   ],
   "source": [
    "s.shape"
   ]
  },
  {
   "cell_type": "markdown",
   "metadata": {
    "colab_type": "text",
    "id": "ewhixmtgIyAS"
   },
   "source": [
    "### Vectors in Numpy"
   ]
  },
  {
   "cell_type": "code",
   "execution_count": 6,
   "metadata": {
    "colab": {
     "base_uri": "https://localhost:8080/",
     "height": 34
    },
    "colab_type": "code",
    "executionInfo": {
     "elapsed": 511,
     "status": "ok",
     "timestamp": 1572111367349,
     "user": {
      "displayName": "Ricardo Pretelt",
      "photoUrl": "https://lh3.googleusercontent.com/a-/AAuE7mA_UalmWpcjMOBsMEnGDEwrJfDxglE2eb4F69L_KHw=s64",
      "userId": "15013903332028054215"
     },
     "user_tz": 300
    },
    "id": "3EI4dX6yIRee",
    "outputId": "0c3bc698-654e-4806-ce2d-bda1bacf668c"
   },
   "outputs": [
    {
     "data": {
      "text/plain": [
       "(3,)"
      ]
     },
     "execution_count": 6,
     "metadata": {},
     "output_type": "execute_result"
    }
   ],
   "source": [
    "mat = np.array([1,2,3])\n",
    "mat.shape"
   ]
  },
  {
   "cell_type": "code",
   "execution_count": 7,
   "metadata": {
    "colab": {
     "base_uri": "https://localhost:8080/",
     "height": 34
    },
    "colab_type": "code",
    "executionInfo": {
     "elapsed": 489,
     "status": "ok",
     "timestamp": 1572111435555,
     "user": {
      "displayName": "Ricardo Pretelt",
      "photoUrl": "https://lh3.googleusercontent.com/a-/AAuE7mA_UalmWpcjMOBsMEnGDEwrJfDxglE2eb4F69L_KHw=s64",
      "userId": "15013903332028054215"
     },
     "user_tz": 300
    },
    "id": "cNLHnFteI7pI",
    "outputId": "cd3df98a-72b6-465d-8816-395691025865"
   },
   "outputs": [
    {
     "data": {
      "text/plain": [
       "2"
      ]
     },
     "execution_count": 7,
     "metadata": {},
     "output_type": "execute_result"
    }
   ],
   "source": [
    "# To access an element within the vector using indices\n",
    "mat[1]"
   ]
  },
  {
   "cell_type": "code",
   "execution_count": 8,
   "metadata": {
    "colab": {
     "base_uri": "https://localhost:8080/",
     "height": 34
    },
    "colab_type": "code",
    "executionInfo": {
     "elapsed": 518,
     "status": "ok",
     "timestamp": 1572111772645,
     "user": {
      "displayName": "Ricardo Pretelt",
      "photoUrl": "https://lh3.googleusercontent.com/a-/AAuE7mA_UalmWpcjMOBsMEnGDEwrJfDxglE2eb4F69L_KHw=s64",
      "userId": "15013903332028054215"
     },
     "user_tz": 300
    },
    "id": "gNu_NSR4JK7A",
    "outputId": "f337370a-0936-433e-d5de-8bde669be139"
   },
   "outputs": [
    {
     "data": {
      "text/plain": [
       "array([2, 3])"
      ]
     },
     "execution_count": 8,
     "metadata": {},
     "output_type": "execute_result"
    }
   ],
   "source": [
    "# To access elements onward the second item\n",
    "mat[1:]"
   ]
  },
  {
   "cell_type": "markdown",
   "metadata": {
    "colab_type": "text",
    "id": "d-2CU4PxKm98"
   },
   "source": [
    "### Matrices in Numpy"
   ]
  },
  {
   "cell_type": "code",
   "execution_count": 9,
   "metadata": {
    "colab": {
     "base_uri": "https://localhost:8080/",
     "height": 68
    },
    "colab_type": "code",
    "executionInfo": {
     "elapsed": 458,
     "status": "ok",
     "timestamp": 1572111849529,
     "user": {
      "displayName": "Ricardo Pretelt",
      "photoUrl": "https://lh3.googleusercontent.com/a-/AAuE7mA_UalmWpcjMOBsMEnGDEwrJfDxglE2eb4F69L_KHw=s64",
      "userId": "15013903332028054215"
     },
     "user_tz": 300
    },
    "id": "PCsCwfucKZ8u",
    "outputId": "9da7be46-6bf8-4c9f-e00d-554eb9f46e01"
   },
   "outputs": [
    {
     "data": {
      "text/plain": [
       "array([[1, 2, 3],\n",
       "       [4, 5, 6],\n",
       "       [7, 8, 9]])"
      ]
     },
     "execution_count": 9,
     "metadata": {},
     "output_type": "execute_result"
    }
   ],
   "source": [
    "mat = np.array([[1,2,3], [4,5,6], [7,8,9]])\n",
    "mat"
   ]
  },
  {
   "cell_type": "code",
   "execution_count": 10,
   "metadata": {
    "colab": {
     "base_uri": "https://localhost:8080/",
     "height": 34
    },
    "colab_type": "code",
    "executionInfo": {
     "elapsed": 543,
     "status": "ok",
     "timestamp": 1572112036692,
     "user": {
      "displayName": "Ricardo Pretelt",
      "photoUrl": "https://lh3.googleusercontent.com/a-/AAuE7mA_UalmWpcjMOBsMEnGDEwrJfDxglE2eb4F69L_KHw=s64",
      "userId": "15013903332028054215"
     },
     "user_tz": 300
    },
    "id": "2IDm0N-kKxX7",
    "outputId": "4e5a3c0d-85e7-4673-d98f-7f610880a365"
   },
   "outputs": [
    {
     "data": {
      "text/plain": [
       "(3, 3)"
      ]
     },
     "execution_count": 10,
     "metadata": {},
     "output_type": "execute_result"
    }
   ],
   "source": [
    "mat.shape"
   ]
  },
  {
   "cell_type": "code",
   "execution_count": 12,
   "metadata": {
    "colab": {
     "base_uri": "https://localhost:8080/",
     "height": 34
    },
    "colab_type": "code",
    "executionInfo": {
     "elapsed": 591,
     "status": "ok",
     "timestamp": 1572112162890,
     "user": {
      "displayName": "Ricardo Pretelt",
      "photoUrl": "https://lh3.googleusercontent.com/a-/AAuE7mA_UalmWpcjMOBsMEnGDEwrJfDxglE2eb4F69L_KHw=s64",
      "userId": "15013903332028054215"
     },
     "user_tz": 300
    },
    "id": "tZw6Y32pLfDJ",
    "outputId": "cb017fc0-cef3-4ae5-e153-fc77ff67a233"
   },
   "outputs": [
    {
     "data": {
      "text/plain": [
       "9"
      ]
     },
     "execution_count": 12,
     "metadata": {},
     "output_type": "execute_result"
    }
   ],
   "source": [
    "# To access 9\n",
    "mat[2,2]"
   ]
  },
  {
   "cell_type": "markdown",
   "metadata": {
    "colab_type": "text",
    "id": "l22fMzAkMSAr"
   },
   "source": [
    "### Tensors in Numpy"
   ]
  },
  {
   "cell_type": "code",
   "execution_count": 13,
   "metadata": {
    "colab": {},
    "colab_type": "code",
    "id": "gkMBXke7L3F7"
   },
   "outputs": [
    {
     "data": {
      "text/plain": [
       "(3, 3, 2, 1)"
      ]
     },
     "execution_count": 13,
     "metadata": {},
     "output_type": "execute_result"
    }
   ],
   "source": [
    "t = np.array([[[[1],[2]],[[3],[4]],[[5],[6]]],[[[7],[8]],\\\n",
    "    [[9],[10]],[[11],[12]]],[[[13],[14]],[[15],[16]],[[17],[17]]]])\n",
    "t.shape"
   ]
  },
  {
   "cell_type": "code",
   "execution_count": 14,
   "metadata": {
    "colab": {
     "base_uri": "https://localhost:8080/",
     "height": 34
    },
    "colab_type": "code",
    "executionInfo": {
     "elapsed": 482,
     "status": "ok",
     "timestamp": 1572112496017,
     "user": {
      "displayName": "Ricardo Pretelt",
      "photoUrl": "https://lh3.googleusercontent.com/a-/AAuE7mA_UalmWpcjMOBsMEnGDEwrJfDxglE2eb4F69L_KHw=s64",
      "userId": "15013903332028054215"
     },
     "user_tz": 300
    },
    "id": "1LKhUqnyMcjw",
    "outputId": "476353d0-ab04-49d4-b6d3-d683782b1d6d"
   },
   "outputs": [
    {
     "data": {
      "text/plain": [
       "16"
      ]
     },
     "execution_count": 14,
     "metadata": {},
     "output_type": "execute_result"
    }
   ],
   "source": [
    "# To access in tensor\n",
    "t[2][1][1][0]"
   ]
  },
  {
   "cell_type": "markdown",
   "metadata": {
    "colab_type": "text",
    "id": "D1tnkAaiNqr1"
   },
   "source": [
    "### Reshape matrices"
   ]
  },
  {
   "cell_type": "code",
   "execution_count": 15,
   "metadata": {
    "colab": {
     "base_uri": "https://localhost:8080/",
     "height": 34
    },
    "colab_type": "code",
    "executionInfo": {
     "elapsed": 496,
     "status": "ok",
     "timestamp": 1572112713532,
     "user": {
      "displayName": "Ricardo Pretelt",
      "photoUrl": "https://lh3.googleusercontent.com/a-/AAuE7mA_UalmWpcjMOBsMEnGDEwrJfDxglE2eb4F69L_KHw=s64",
      "userId": "15013903332028054215"
     },
     "user_tz": 300
    },
    "id": "vmE7oi9eNPNF",
    "outputId": "32011f7a-ad2e-4614-eccd-324ff7aa2f2a"
   },
   "outputs": [
    {
     "data": {
      "text/plain": [
       "(4,)"
      ]
     },
     "execution_count": 15,
     "metadata": {},
     "output_type": "execute_result"
    }
   ],
   "source": [
    "v = np.array([1,2,3,4])\n",
    "v.shape"
   ]
  },
  {
   "cell_type": "code",
   "execution_count": 16,
   "metadata": {
    "colab": {
     "base_uri": "https://localhost:8080/",
     "height": 34
    },
    "colab_type": "code",
    "executionInfo": {
     "elapsed": 467,
     "status": "ok",
     "timestamp": 1572112718928,
     "user": {
      "displayName": "Ricardo Pretelt",
      "photoUrl": "https://lh3.googleusercontent.com/a-/AAuE7mA_UalmWpcjMOBsMEnGDEwrJfDxglE2eb4F69L_KHw=s64",
      "userId": "15013903332028054215"
     },
     "user_tz": 300
    },
    "id": "ewqEjk8lNgjB",
    "outputId": "cd5a1340-a7fa-43e8-cb9e-68b097a97567"
   },
   "outputs": [
    {
     "data": {
      "text/plain": [
       "(1, 4)"
      ]
     },
     "execution_count": 16,
     "metadata": {},
     "output_type": "execute_result"
    }
   ],
   "source": [
    "x = v.reshape(1,4)\n",
    "x.shape"
   ]
  },
  {
   "cell_type": "markdown",
   "metadata": {
    "colab_type": "text",
    "id": "irfhJ8jOPLt7"
   },
   "source": [
    "Other forms of the same code"
   ]
  },
  {
   "cell_type": "code",
   "execution_count": 17,
   "metadata": {
    "colab": {
     "base_uri": "https://localhost:8080/",
     "height": 34
    },
    "colab_type": "code",
    "executionInfo": {
     "elapsed": 467,
     "status": "ok",
     "timestamp": 1572112938897,
     "user": {
      "displayName": "Ricardo Pretelt",
      "photoUrl": "https://lh3.googleusercontent.com/a-/AAuE7mA_UalmWpcjMOBsMEnGDEwrJfDxglE2eb4F69L_KHw=s64",
      "userId": "15013903332028054215"
     },
     "user_tz": 300
    },
    "id": "vT9891YJN1Zc",
    "outputId": "992d1507-4777-44ad-e16f-cf2a081090db"
   },
   "outputs": [
    {
     "data": {
      "text/plain": [
       "(1, 4)"
      ]
     },
     "execution_count": 17,
     "metadata": {},
     "output_type": "execute_result"
    }
   ],
   "source": [
    "x = v[None, :]\n",
    "x.shape"
   ]
  },
  {
   "cell_type": "code",
   "execution_count": 18,
   "metadata": {
    "colab": {
     "base_uri": "https://localhost:8080/",
     "height": 34
    },
    "colab_type": "code",
    "executionInfo": {
     "elapsed": 497,
     "status": "ok",
     "timestamp": 1572112995497,
     "user": {
      "displayName": "Ricardo Pretelt",
      "photoUrl": "https://lh3.googleusercontent.com/a-/AAuE7mA_UalmWpcjMOBsMEnGDEwrJfDxglE2eb4F69L_KHw=s64",
      "userId": "15013903332028054215"
     },
     "user_tz": 300
    },
    "id": "lmXrnmieO2fq",
    "outputId": "7bdbcc98-54af-47ff-e698-33dd38a0a9f2"
   },
   "outputs": [
    {
     "data": {
      "text/plain": [
       "(4, 1)"
      ]
     },
     "execution_count": 18,
     "metadata": {},
     "output_type": "execute_result"
    }
   ],
   "source": [
    "x = v[:,None]\n",
    "x.shape"
   ]
  },
  {
   "cell_type": "markdown",
   "metadata": {
    "colab_type": "text",
    "id": "v55UCcESTGyu"
   },
   "source": [
    "### Basic operations with numpy"
   ]
  },
  {
   "cell_type": "code",
   "execution_count": 19,
   "metadata": {
    "colab": {
     "base_uri": "https://localhost:8080/",
     "height": 34
    },
    "colab_type": "code",
    "executionInfo": {
     "elapsed": 459,
     "status": "ok",
     "timestamp": 1572114073058,
     "user": {
      "displayName": "Ricardo Pretelt",
      "photoUrl": "https://lh3.googleusercontent.com/a-/AAuE7mA_UalmWpcjMOBsMEnGDEwrJfDxglE2eb4F69L_KHw=s64",
      "userId": "15013903332028054215"
     },
     "user_tz": 300
    },
    "id": "2X6xd4v2O5uX",
    "outputId": "c1015383-b775-4b40-e5df-d436a51170e3"
   },
   "outputs": [
    {
     "data": {
      "text/plain": [
       "array([ 6,  7,  8,  9, 10])"
      ]
     },
     "execution_count": 19,
     "metadata": {},
     "output_type": "execute_result"
    }
   ],
   "source": [
    "# Sum\n",
    "values = [1,2,3,4,5]\n",
    "values = np.array(values) + 5\n",
    "values"
   ]
  },
  {
   "cell_type": "code",
   "execution_count": 20,
   "metadata": {
    "colab": {
     "base_uri": "https://localhost:8080/",
     "height": 34
    },
    "colab_type": "code",
    "executionInfo": {
     "elapsed": 460,
     "status": "ok",
     "timestamp": 1572114195672,
     "user": {
      "displayName": "Ricardo Pretelt",
      "photoUrl": "https://lh3.googleusercontent.com/a-/AAuE7mA_UalmWpcjMOBsMEnGDEwrJfDxglE2eb4F69L_KHw=s64",
      "userId": "15013903332028054215"
     },
     "user_tz": 300
    },
    "id": "-N32ywxATPGP",
    "outputId": "08f3b83a-a426-4504-a0c0-3494a0c550da"
   },
   "outputs": [
    {
     "data": {
      "text/plain": [
       "array([30, 35, 40, 45, 50])"
      ]
     },
     "execution_count": 20,
     "metadata": {},
     "output_type": "execute_result"
    }
   ],
   "source": [
    "# Multiplication but another notation\n",
    "x = np.multiply(values, 5)\n",
    "x"
   ]
  },
  {
   "cell_type": "code",
   "execution_count": 23,
   "metadata": {
    "colab": {
     "base_uri": "https://localhost:8080/",
     "height": 68
    },
    "colab_type": "code",
    "executionInfo": {
     "elapsed": 921,
     "status": "ok",
     "timestamp": 1572114264789,
     "user": {
      "displayName": "Ricardo Pretelt",
      "photoUrl": "https://lh3.googleusercontent.com/a-/AAuE7mA_UalmWpcjMOBsMEnGDEwrJfDxglE2eb4F69L_KHw=s64",
      "userId": "15013903332028054215"
     },
     "user_tz": 300
    },
    "id": "IVNPmOeGTtA0",
    "outputId": "f56c8f2e-6e7c-4add-f483-1aad76269ae9"
   },
   "outputs": [
    {
     "data": {
      "text/plain": [
       "array([[0, 0, 0],\n",
       "       [0, 0, 0],\n",
       "       [0, 0, 0]])"
      ]
     },
     "execution_count": 23,
     "metadata": {},
     "output_type": "execute_result"
    }
   ],
   "source": [
    "# To make every item zero for every dimension\n",
    "mat*=0\n",
    "mat"
   ]
  },
  {
   "cell_type": "code",
   "execution_count": 24,
   "metadata": {
    "colab": {
     "base_uri": "https://localhost:8080/",
     "height": 51
    },
    "colab_type": "code",
    "executionInfo": {
     "elapsed": 502,
     "status": "ok",
     "timestamp": 1572114371539,
     "user": {
      "displayName": "Ricardo Pretelt",
      "photoUrl": "https://lh3.googleusercontent.com/a-/AAuE7mA_UalmWpcjMOBsMEnGDEwrJfDxglE2eb4F69L_KHw=s64",
      "userId": "15013903332028054215"
     },
     "user_tz": 300
    },
    "id": "gOp9f4y4T9go",
    "outputId": "95524dd1-f946-4d41-f76e-2522291bcf15"
   },
   "outputs": [
    {
     "data": {
      "text/plain": [
       "array([[ 3,  7],\n",
       "       [11, 15]])"
      ]
     },
     "execution_count": 24,
     "metadata": {},
     "output_type": "execute_result"
    }
   ],
   "source": [
    "# Sum between matrices, with compatible shape\n",
    "a = np.array([[1,3],[5,7]])\n",
    "b = np.array([[2,4],[6,8]])\n",
    "a + b"
   ]
  },
  {
   "cell_type": "markdown",
   "metadata": {
    "colab_type": "text",
    "id": "AG-EHWN7nDS4"
   },
   "source": [
    "### Numpy matrix multiplication"
   ]
  },
  {
   "cell_type": "code",
   "execution_count": 25,
   "metadata": {
    "colab": {
     "base_uri": "https://localhost:8080/",
     "height": 51
    },
    "colab_type": "code",
    "executionInfo": {
     "elapsed": 470,
     "status": "ok",
     "timestamp": 1572119385447,
     "user": {
      "displayName": "Ricardo Pretelt",
      "photoUrl": "https://lh3.googleusercontent.com/a-/AAuE7mA_UalmWpcjMOBsMEnGDEwrJfDxglE2eb4F69L_KHw=s64",
      "userId": "15013903332028054215"
     },
     "user_tz": 300
    },
    "id": "n-qf_ZS3UZFd",
    "outputId": "4957d392-50c1-4285-8491-9dc57852d6eb"
   },
   "outputs": [
    {
     "data": {
      "text/plain": [
       "array([[1, 2, 3],\n",
       "       [4, 5, 6]])"
      ]
     },
     "execution_count": 25,
     "metadata": {},
     "output_type": "execute_result"
    }
   ],
   "source": [
    "m = np.array([[1,2,3],[4,5,6]])\n",
    "m"
   ]
  },
  {
   "cell_type": "code",
   "execution_count": 26,
   "metadata": {
    "colab": {
     "base_uri": "https://localhost:8080/",
     "height": 51
    },
    "colab_type": "code",
    "executionInfo": {
     "elapsed": 458,
     "status": "ok",
     "timestamp": 1572119399222,
     "user": {
      "displayName": "Ricardo Pretelt",
      "photoUrl": "https://lh3.googleusercontent.com/a-/AAuE7mA_UalmWpcjMOBsMEnGDEwrJfDxglE2eb4F69L_KHw=s64",
      "userId": "15013903332028054215"
     },
     "user_tz": 300
    },
    "id": "lHI1T4iMnfEa",
    "outputId": "7827a239-51ac-426f-fa13-695504b09290"
   },
   "outputs": [
    {
     "data": {
      "text/plain": [
       "array([[0.25, 0.5 , 0.75],\n",
       "       [1.  , 1.25, 1.5 ]])"
      ]
     },
     "execution_count": 26,
     "metadata": {},
     "output_type": "execute_result"
    }
   ],
   "source": [
    "n = m * 0.25\n",
    "n"
   ]
  },
  {
   "cell_type": "code",
   "execution_count": 27,
   "metadata": {
    "colab": {
     "base_uri": "https://localhost:8080/",
     "height": 51
    },
    "colab_type": "code",
    "executionInfo": {
     "elapsed": 457,
     "status": "ok",
     "timestamp": 1572119425353,
     "user": {
      "displayName": "Ricardo Pretelt",
      "photoUrl": "https://lh3.googleusercontent.com/a-/AAuE7mA_UalmWpcjMOBsMEnGDEwrJfDxglE2eb4F69L_KHw=s64",
      "userId": "15013903332028054215"
     },
     "user_tz": 300
    },
    "id": "yqOJ78DKnkjo",
    "outputId": "15ded5f0-3ef6-4b60-eb0a-0e447440da50"
   },
   "outputs": [
    {
     "data": {
      "text/plain": [
       "array([[0.25, 1.  , 2.25],\n",
       "       [4.  , 6.25, 9.  ]])"
      ]
     },
     "execution_count": 27,
     "metadata": {},
     "output_type": "execute_result"
    }
   ],
   "source": [
    "m * n"
   ]
  },
  {
   "cell_type": "code",
   "execution_count": 28,
   "metadata": {
    "colab": {
     "base_uri": "https://localhost:8080/",
     "height": 51
    },
    "colab_type": "code",
    "executionInfo": {
     "elapsed": 644,
     "status": "ok",
     "timestamp": 1572119500702,
     "user": {
      "displayName": "Ricardo Pretelt",
      "photoUrl": "https://lh3.googleusercontent.com/a-/AAuE7mA_UalmWpcjMOBsMEnGDEwrJfDxglE2eb4F69L_KHw=s64",
      "userId": "15013903332028054215"
     },
     "user_tz": 300
    },
    "id": "WUGdZR2nnq8G",
    "outputId": "6eea74c5-2817-490a-8fb0-0a06b037a1fc"
   },
   "outputs": [
    {
     "data": {
      "text/plain": [
       "array([[0.25, 1.  , 2.25],\n",
       "       [4.  , 6.25, 9.  ]])"
      ]
     },
     "execution_count": 28,
     "metadata": {},
     "output_type": "execute_result"
    }
   ],
   "source": [
    "# equivalent to m * n\n",
    "np.multiply(m, n)"
   ]
  },
  {
   "cell_type": "markdown",
   "metadata": {
    "colab_type": "text",
    "id": "OqMC_uKBoINn"
   },
   "source": [
    "### Matrix product"
   ]
  },
  {
   "cell_type": "code",
   "execution_count": 29,
   "metadata": {
    "colab": {
     "base_uri": "https://localhost:8080/",
     "height": 34
    },
    "colab_type": "code",
    "executionInfo": {
     "elapsed": 466,
     "status": "ok",
     "timestamp": 1572119601331,
     "user": {
      "displayName": "Ricardo Pretelt",
      "photoUrl": "https://lh3.googleusercontent.com/a-/AAuE7mA_UalmWpcjMOBsMEnGDEwrJfDxglE2eb4F69L_KHw=s64",
      "userId": "15013903332028054215"
     },
     "user_tz": 300
    },
    "id": "q1Dm8-qVn9Sh",
    "outputId": "e9bbe3f6-c4f8-4327-d50a-f677e5ea9922"
   },
   "outputs": [
    {
     "data": {
      "text/plain": [
       "(2, 4)"
      ]
     },
     "execution_count": 29,
     "metadata": {},
     "output_type": "execute_result"
    }
   ],
   "source": [
    "a = np.array([[1,2,3,4],[5,6,7,8]])\n",
    "a.shape"
   ]
  },
  {
   "cell_type": "code",
   "execution_count": 30,
   "metadata": {
    "colab": {
     "base_uri": "https://localhost:8080/",
     "height": 34
    },
    "colab_type": "code",
    "executionInfo": {
     "elapsed": 449,
     "status": "ok",
     "timestamp": 1572119624327,
     "user": {
      "displayName": "Ricardo Pretelt",
      "photoUrl": "https://lh3.googleusercontent.com/a-/AAuE7mA_UalmWpcjMOBsMEnGDEwrJfDxglE2eb4F69L_KHw=s64",
      "userId": "15013903332028054215"
     },
     "user_tz": 300
    },
    "id": "Gay8XDDHoV5n",
    "outputId": "27f031b6-4ab2-493f-add4-1614a5a87e65"
   },
   "outputs": [
    {
     "data": {
      "text/plain": [
       "(4, 3)"
      ]
     },
     "execution_count": 30,
     "metadata": {},
     "output_type": "execute_result"
    }
   ],
   "source": [
    "b = np.array([[1,2,3],[4,5,6],[7,8,9],[10,11,12]])\n",
    "b.shape\n"
   ]
  },
  {
   "cell_type": "code",
   "execution_count": 31,
   "metadata": {
    "colab": {
     "base_uri": "https://localhost:8080/",
     "height": 51
    },
    "colab_type": "code",
    "executionInfo": {
     "elapsed": 524,
     "status": "ok",
     "timestamp": 1572119637414,
     "user": {
      "displayName": "Ricardo Pretelt",
      "photoUrl": "https://lh3.googleusercontent.com/a-/AAuE7mA_UalmWpcjMOBsMEnGDEwrJfDxglE2eb4F69L_KHw=s64",
      "userId": "15013903332028054215"
     },
     "user_tz": 300
    },
    "id": "5iDxSQz6obg4",
    "outputId": "4e10e464-b272-46c8-ec58-1fd551e75225"
   },
   "outputs": [
    {
     "data": {
      "text/plain": [
       "array([[ 70,  80,  90],\n",
       "       [158, 184, 210]])"
      ]
     },
     "execution_count": 31,
     "metadata": {},
     "output_type": "execute_result"
    }
   ],
   "source": [
    "c = np.matmul(a, b)\n",
    "c"
   ]
  },
  {
   "cell_type": "code",
   "execution_count": 32,
   "metadata": {
    "colab": {
     "base_uri": "https://localhost:8080/",
     "height": 51
    },
    "colab_type": "code",
    "executionInfo": {
     "elapsed": 443,
     "status": "ok",
     "timestamp": 1572119708527,
     "user": {
      "displayName": "Ricardo Pretelt",
      "photoUrl": "https://lh3.googleusercontent.com/a-/AAuE7mA_UalmWpcjMOBsMEnGDEwrJfDxglE2eb4F69L_KHw=s64",
      "userId": "15013903332028054215"
     },
     "user_tz": 300
    },
    "id": "b1E5EvjTofwY",
    "outputId": "f6acf5c7-0455-43b1-e7c2-62a9adf33bc9"
   },
   "outputs": [
    {
     "data": {
      "text/plain": [
       "array([[ 70,  80,  90],\n",
       "       [158, 184, 210]])"
      ]
     },
     "execution_count": 32,
     "metadata": {},
     "output_type": "execute_result"
    }
   ],
   "source": [
    "# Dot function is the same as matmul for matrices of 2 dimensions\n",
    "np.dot(a,b)"
   ]
  },
  {
   "cell_type": "markdown",
   "metadata": {
    "colab_type": "text",
    "id": "gnYpczCUrutX"
   },
   "source": [
    "### Matrix transpose"
   ]
  },
  {
   "cell_type": "code",
   "execution_count": 33,
   "metadata": {
    "colab": {
     "base_uri": "https://localhost:8080/",
     "height": 68
    },
    "colab_type": "code",
    "executionInfo": {
     "elapsed": 466,
     "status": "ok",
     "timestamp": 1572120565545,
     "user": {
      "displayName": "Ricardo Pretelt",
      "photoUrl": "https://lh3.googleusercontent.com/a-/AAuE7mA_UalmWpcjMOBsMEnGDEwrJfDxglE2eb4F69L_KHw=s64",
      "userId": "15013903332028054215"
     },
     "user_tz": 300
    },
    "id": "XPPiYiwlowFL",
    "outputId": "19a6b054-6af5-43c7-a2ba-280aca7a4f47"
   },
   "outputs": [
    {
     "data": {
      "text/plain": [
       "array([[ 1,  2,  3,  4],\n",
       "       [ 5,  6,  7,  8],\n",
       "       [ 9, 10, 11, 12]])"
      ]
     },
     "execution_count": 33,
     "metadata": {},
     "output_type": "execute_result"
    }
   ],
   "source": [
    "m = np.array([[1,2,3,4], [5,6,7,8], [9,10,11,12]])\n",
    "m"
   ]
  },
  {
   "cell_type": "code",
   "execution_count": 34,
   "metadata": {
    "colab": {
     "base_uri": "https://localhost:8080/",
     "height": 85
    },
    "colab_type": "code",
    "executionInfo": {
     "elapsed": 475,
     "status": "ok",
     "timestamp": 1572120568106,
     "user": {
      "displayName": "Ricardo Pretelt",
      "photoUrl": "https://lh3.googleusercontent.com/a-/AAuE7mA_UalmWpcjMOBsMEnGDEwrJfDxglE2eb4F69L_KHw=s64",
      "userId": "15013903332028054215"
     },
     "user_tz": 300
    },
    "id": "fkgt_e_msBTP",
    "outputId": "6fc586bc-4521-4b9d-f045-1f4fa9c0e45d"
   },
   "outputs": [
    {
     "data": {
      "text/plain": [
       "array([[ 1,  5,  9],\n",
       "       [ 2,  6, 10],\n",
       "       [ 3,  7, 11],\n",
       "       [ 4,  8, 12]])"
      ]
     },
     "execution_count": 34,
     "metadata": {},
     "output_type": "execute_result"
    }
   ],
   "source": [
    "m.T"
   ]
  },
  {
   "cell_type": "code",
   "execution_count": 35,
   "metadata": {
    "colab": {
     "base_uri": "https://localhost:8080/",
     "height": 85
    },
    "colab_type": "code",
    "executionInfo": {
     "elapsed": 493,
     "status": "ok",
     "timestamp": 1572120637275,
     "user": {
      "displayName": "Ricardo Pretelt",
      "photoUrl": "https://lh3.googleusercontent.com/a-/AAuE7mA_UalmWpcjMOBsMEnGDEwrJfDxglE2eb4F69L_KHw=s64",
      "userId": "15013903332028054215"
     },
     "user_tz": 300
    },
    "id": "x-29yoVtsB7P",
    "outputId": "2594642b-6c59-4f22-f390-e05f56727ae2"
   },
   "outputs": [
    {
     "data": {
      "text/plain": [
       "array([[  1,   5,   9],\n",
       "       [  2,   6,  10],\n",
       "       [  3,   7,  11],\n",
       "       [  4, 200,  12]])"
      ]
     },
     "execution_count": 35,
     "metadata": {},
     "output_type": "execute_result"
    }
   ],
   "source": [
    "m_t = m.T\n",
    "m_t[3][1] = 200\n",
    "m_t"
   ]
  },
  {
   "cell_type": "code",
   "execution_count": 36,
   "metadata": {
    "colab": {
     "base_uri": "https://localhost:8080/",
     "height": 68
    },
    "colab_type": "code",
    "executionInfo": {
     "elapsed": 454,
     "status": "ok",
     "timestamp": 1572120708808,
     "user": {
      "displayName": "Ricardo Pretelt",
      "photoUrl": "https://lh3.googleusercontent.com/a-/AAuE7mA_UalmWpcjMOBsMEnGDEwrJfDxglE2eb4F69L_KHw=s64",
      "userId": "15013903332028054215"
     },
     "user_tz": 300
    },
    "id": "YaTN0EQjsSzw",
    "outputId": "97a35d84-905f-4e53-951a-702db8cedad3"
   },
   "outputs": [
    {
     "data": {
      "text/plain": [
       "array([[  1,   2,   3,   4],\n",
       "       [  5,   6,   7, 200],\n",
       "       [  9,  10,  11,  12]])"
      ]
     },
     "execution_count": 36,
     "metadata": {},
     "output_type": "execute_result"
    }
   ],
   "source": [
    "# If we modify the transpose, the real matrix is modified too\n",
    "m"
   ]
  }
 ],
 "metadata": {
  "colab": {
   "collapsed_sections": [],
   "name": "Intro-to-Numpy.ipynb",
   "provenance": []
  },
  "kernelspec": {
   "display_name": "Python 3",
   "language": "python",
   "name": "python3"
  },
  "language_info": {
   "codemirror_mode": {
    "name": "ipython",
    "version": 3
   },
   "file_extension": ".py",
   "mimetype": "text/x-python",
   "name": "python",
   "nbconvert_exporter": "python",
   "pygments_lexer": "ipython3",
   "version": "3.7.4"
  }
 },
 "nbformat": 4,
 "nbformat_minor": 1
}
