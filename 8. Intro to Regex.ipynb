{
 "cells": [
  {
   "cell_type": "markdown",
   "id": "7c3e301b",
   "metadata": {},
   "source": [
    "# Intro to Regex"
   ]
  },
  {
   "cell_type": "code",
   "execution_count": 1,
   "id": "5768e156",
   "metadata": {},
   "outputs": [],
   "source": [
    "# Import libraries\n",
    "import pandas as pd\n",
    "import re"
   ]
  },
  {
   "cell_type": "markdown",
   "id": "c32bf56d",
   "metadata": {},
   "source": [
    "### Regex in python"
   ]
  },
  {
   "cell_type": "code",
   "execution_count": 2,
   "id": "e1104bc0",
   "metadata": {},
   "outputs": [
    {
     "name": "stdout",
     "output_type": "stream",
     "text": [
      "4\n"
     ]
    }
   ],
   "source": [
    "# To find the first position for searched character in string. \\s is space\n",
    "txt = \"Data analysis in Pandas\"\n",
    "x = re.search(\"\\s\", txt)\n",
    "print(x.start())"
   ]
  },
  {
   "cell_type": "code",
   "execution_count": 3,
   "id": "ebce3cae",
   "metadata": {},
   "outputs": [
    {
     "name": "stdout",
     "output_type": "stream",
     "text": [
      "343-46\n",
      "23-55\n",
      "343-55\n"
     ]
    }
   ],
   "source": [
    "# Find all matches in a string\n",
    "abc = '343-46, 23-55, 343-55'\n",
    "emails = re.findall(r'[\\w\\.-]+-[\\w\\.-]+', abc)\n",
    "for email in emails:\n",
    "    print(email)"
   ]
  },
  {
   "cell_type": "markdown",
   "id": "cef388f9",
   "metadata": {},
   "source": [
    "### Regex in Pandas"
   ]
  },
  {
   "cell_type": "code",
   "execution_count": 4,
   "id": "7dbc9e04",
   "metadata": {},
   "outputs": [
    {
     "data": {
      "text/plain": [
       "0          New-1\n",
       "1     Football-2\n",
       "2     baseball-3\n",
       "3    Voleyball-4\n",
       "4       tennis-5\n",
       "5          New-6\n",
       "dtype: object"
      ]
     },
     "execution_count": 4,
     "metadata": {},
     "output_type": "execute_result"
    }
   ],
   "source": [
    "# Replace word before special with new value\n",
    "S=pd.Series(['Basketball-1','Football-2', 'baseball-3','Voleyball-4','tennis-5','Biking-6'])\n",
    "S.replace(to_replace=r'(B\\w+)', value='New',regex=True)"
   ]
  },
  {
   "cell_type": "code",
   "execution_count": 5,
   "id": "1a6561e7",
   "metadata": {},
   "outputs": [
    {
     "data": {
      "text/html": [
       "<div>\n",
       "<style scoped>\n",
       "    .dataframe tbody tr th:only-of-type {\n",
       "        vertical-align: middle;\n",
       "    }\n",
       "\n",
       "    .dataframe tbody tr th {\n",
       "        vertical-align: top;\n",
       "    }\n",
       "\n",
       "    .dataframe thead th {\n",
       "        text-align: right;\n",
       "    }\n",
       "</style>\n",
       "<table border=\"1\" class=\"dataframe\">\n",
       "  <thead>\n",
       "    <tr style=\"text-align: right;\">\n",
       "      <th></th>\n",
       "      <th>A</th>\n",
       "      <th>B</th>\n",
       "    </tr>\n",
       "  </thead>\n",
       "  <tbody>\n",
       "    <tr>\n",
       "      <th>0</th>\n",
       "      <td>new</td>\n",
       "      <td>new</td>\n",
       "    </tr>\n",
       "    <tr>\n",
       "      <th>1</th>\n",
       "      <td>east</td>\n",
       "      <td>west</td>\n",
       "    </tr>\n",
       "    <tr>\n",
       "      <th>2</th>\n",
       "      <td>sunlight</td>\n",
       "      <td>new</td>\n",
       "    </tr>\n",
       "  </tbody>\n",
       "</table>\n",
       "</div>"
      ],
      "text/plain": [
       "          A     B\n",
       "0       new   new\n",
       "1      east  west\n",
       "2  sunlight   new"
      ]
     },
     "execution_count": 5,
     "metadata": {},
     "output_type": "execute_result"
    }
   ],
   "source": [
    "# Replace a word if it has 3 characters\n",
    "df = pd.DataFrame({'A': ['ear', 'east', 'sunlight'],\n",
    "                   'B': ['sun', 'west', 'eat']})\n",
    "\n",
    "df.replace(to_replace=r'^ea.$|^su.$', value='new', regex=True)"
   ]
  },
  {
   "cell_type": "code",
   "execution_count": 6,
   "id": "f1c123d0",
   "metadata": {},
   "outputs": [
    {
     "data": {
      "text/html": [
       "<div>\n",
       "<style scoped>\n",
       "    .dataframe tbody tr th:only-of-type {\n",
       "        vertical-align: middle;\n",
       "    }\n",
       "\n",
       "    .dataframe tbody tr th {\n",
       "        vertical-align: top;\n",
       "    }\n",
       "\n",
       "    .dataframe thead th {\n",
       "        text-align: right;\n",
       "    }\n",
       "</style>\n",
       "<table border=\"1\" class=\"dataframe\">\n",
       "  <thead>\n",
       "    <tr style=\"text-align: right;\">\n",
       "      <th></th>\n",
       "      <th>Country</th>\n",
       "      <th>City</th>\n",
       "    </tr>\n",
       "  </thead>\n",
       "  <tbody>\n",
       "    <tr>\n",
       "      <th>0</th>\n",
       "      <td>United States (USA)</td>\n",
       "      <td>Washington DC</td>\n",
       "    </tr>\n",
       "    <tr>\n",
       "      <th>1</th>\n",
       "      <td>Colombia (COL)</td>\n",
       "      <td>Bogota</td>\n",
       "    </tr>\n",
       "    <tr>\n",
       "      <th>2</th>\n",
       "      <td>Peru (PER)</td>\n",
       "      <td>Lima</td>\n",
       "    </tr>\n",
       "    <tr>\n",
       "      <th>3</th>\n",
       "      <td>Mexico (MEX)</td>\n",
       "      <td>Mexico DF</td>\n",
       "    </tr>\n",
       "  </tbody>\n",
       "</table>\n",
       "</div>"
      ],
      "text/plain": [
       "               Country           City\n",
       "0  United States (USA)  Washington DC\n",
       "1       Colombia (COL)         Bogota\n",
       "2           Peru (PER)           Lima\n",
       "3         Mexico (MEX)      Mexico DF"
      ]
     },
     "execution_count": 6,
     "metadata": {},
     "output_type": "execute_result"
    }
   ],
   "source": [
    "# To clean dataframe\n",
    "df2 = pd.DataFrame({'Country':['United States (USA)', 'Colombia (COL)', 'Peru (PER)', 'Mexico (MEX)'],\n",
    "                    'City':['Washington DC', 'Bogota', 'Lima', 'Mexico DF']})\n",
    "df2"
   ]
  },
  {
   "cell_type": "code",
   "execution_count": 7,
   "id": "b58205f8",
   "metadata": {},
   "outputs": [
    {
     "data": {
      "text/html": [
       "<div>\n",
       "<style scoped>\n",
       "    .dataframe tbody tr th:only-of-type {\n",
       "        vertical-align: middle;\n",
       "    }\n",
       "\n",
       "    .dataframe tbody tr th {\n",
       "        vertical-align: top;\n",
       "    }\n",
       "\n",
       "    .dataframe thead th {\n",
       "        text-align: right;\n",
       "    }\n",
       "</style>\n",
       "<table border=\"1\" class=\"dataframe\">\n",
       "  <thead>\n",
       "    <tr style=\"text-align: right;\">\n",
       "      <th></th>\n",
       "      <th>Country</th>\n",
       "      <th>City</th>\n",
       "    </tr>\n",
       "  </thead>\n",
       "  <tbody>\n",
       "    <tr>\n",
       "      <th>0</th>\n",
       "      <td>United States</td>\n",
       "      <td>Washington DC</td>\n",
       "    </tr>\n",
       "    <tr>\n",
       "      <th>1</th>\n",
       "      <td>Colombia</td>\n",
       "      <td>Bogota</td>\n",
       "    </tr>\n",
       "    <tr>\n",
       "      <th>2</th>\n",
       "      <td>Peru</td>\n",
       "      <td>Lima</td>\n",
       "    </tr>\n",
       "    <tr>\n",
       "      <th>3</th>\n",
       "      <td>Mexico</td>\n",
       "      <td>Mexico DF</td>\n",
       "    </tr>\n",
       "  </tbody>\n",
       "</table>\n",
       "</div>"
      ],
      "text/plain": [
       "          Country           City\n",
       "0  United States   Washington DC\n",
       "1       Colombia          Bogota\n",
       "2           Peru            Lima\n",
       "3         Mexico       Mexico DF"
      ]
     },
     "execution_count": 7,
     "metadata": {},
     "output_type": "execute_result"
    }
   ],
   "source": [
    "def Clean_names(City_name):\n",
    "    # Search for opening bracket in the name followed by\n",
    "    # any characters repeated any number of times\n",
    "    if re.search('\\(.*', City_name):\n",
    "  \n",
    "        # Extract the position of beginning of pattern\n",
    "        pos = re.search('\\(.*', City_name).start()\n",
    "  \n",
    "        # return the cleaned name\n",
    "        return City_name[:pos]\n",
    "  \n",
    "    else:\n",
    "        # if clean up needed return the same name\n",
    "        return City_name\n",
    "          \n",
    "# Updated the city columns\n",
    "df2['Country'] = df2['Country'].apply(Clean_names)\n",
    "df2"
   ]
  }
 ],
 "metadata": {
  "kernelspec": {
   "display_name": "Python 3",
   "language": "python",
   "name": "python3"
  },
  "language_info": {
   "codemirror_mode": {
    "name": "ipython",
    "version": 3
   },
   "file_extension": ".py",
   "mimetype": "text/x-python",
   "name": "python",
   "nbconvert_exporter": "python",
   "pygments_lexer": "ipython3",
   "version": "3.8.10"
  }
 },
 "nbformat": 4,
 "nbformat_minor": 5
}
