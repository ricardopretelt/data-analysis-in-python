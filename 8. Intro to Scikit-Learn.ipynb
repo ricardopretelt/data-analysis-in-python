{
 "cells": [
  {
   "cell_type": "markdown",
   "metadata": {},
   "source": [
    "# Intro to scikitlearn"
   ]
  },
  {
   "cell_type": "markdown",
   "metadata": {},
   "source": [
    "## Split data in random train and test sets"
   ]
  },
  {
   "cell_type": "code",
   "execution_count": 249,
   "metadata": {},
   "outputs": [
    {
     "name": "stdout",
     "output_type": "stream",
     "text": [
      "X [[0 1]\n",
      " [2 3]\n",
      " [4 5]\n",
      " [6 7]\n",
      " [8 9]]\n",
      "y range(0, 5)\n"
     ]
    }
   ],
   "source": [
    "# Create the dataset to split\n",
    "from sklearn.model_selection import train_test_split\n",
    "X, y = np.arange(10).reshape((5, 2)), range(5)\n",
    "print(\"X\", X)\n",
    "print(\"y\", y)"
   ]
  },
  {
   "cell_type": "code",
   "execution_count": 250,
   "metadata": {},
   "outputs": [
    {
     "name": "stdout",
     "output_type": "stream",
     "text": [
      "X_train [[8 9]\n",
      " [4 5]\n",
      " [0 1]\n",
      " [6 7]]\n",
      "X_test [[2 3]]\n",
      "y_train [4, 2, 0, 3]\n",
      "y_test [1]\n"
     ]
    }
   ],
   "source": [
    "X_train, X_test, y_train, y_test = train_test_split(X, y, test_size=0.2, random_state=42)\n",
    "print(\"X_train\", X_train)\n",
    "print(\"X_test\", X_test)\n",
    "print(\"y_train\", y_train)\n",
    "print(\"y_test\", y_test)"
   ]
  },
  {
   "cell_type": "markdown",
   "metadata": {},
   "source": [
    "## Stratified sampling"
   ]
  },
  {
   "cell_type": "code",
   "execution_count": 2,
   "metadata": {},
   "outputs": [
    {
     "data": {
      "text/plain": [
       "3.0    0.350581\n",
       "2.0    0.318847\n",
       "4.0    0.176308\n",
       "5.0    0.114438\n",
       "1.0    0.039826\n",
       "Name: income_cat, dtype: float64"
      ]
     },
     "execution_count": 2,
     "metadata": {},
     "output_type": "execute_result"
    }
   ],
   "source": [
    "# Using california's housing dataset from the 90s\n",
    "housing=pd.read_csv(\"https://raw.githubusercontent.com/ageron/handson-ml/master/datasets/housing/housing.csv\")\n",
    "# Creating a new category called income_cat\n",
    "# The median income is divided by 1.5 to limit the number of categories\n",
    "# Greater than 5 were added to 5 to make it representative\n",
    "housing[\"income_cat\"] = np.ceil(housing[\"median_income\"] / 1.5)\n",
    "housing[\"income_cat\"].where(housing[\"income_cat\"] < 5, 5.0, inplace=True)\n",
    "# To do stratified sampling based on the income category\n",
    "# The median income is chosen as attribute to stratify as it is believed \n",
    "# as a strong indicator of median housing price\n",
    "from sklearn.model_selection import StratifiedShuffleSplit\n",
    "split = StratifiedShuffleSplit(n_splits=1, test_size=0.2, random_state=42)\n",
    "for train_index, test_index in split.split(housing, housing[\"income_cat\"]):\n",
    "    strat_train_set = housing.loc[train_index]\n",
    "    strat_test_set = housing.loc[test_index]\n",
    "# To see if worked, first look at the original distribution of the data\n",
    "housing[\"income_cat\"].value_counts() / len(housing)"
   ]
  },
  {
   "cell_type": "code",
   "execution_count": 3,
   "metadata": {},
   "outputs": [
    {
     "data": {
      "text/plain": [
       "3.0    0.350594\n",
       "2.0    0.318859\n",
       "4.0    0.176296\n",
       "5.0    0.114402\n",
       "1.0    0.039850\n",
       "Name: income_cat, dtype: float64"
      ]
     },
     "execution_count": 3,
     "metadata": {},
     "output_type": "execute_result"
    }
   ],
   "source": [
    "# Look the train set distribution\n",
    "strat_train_set[\"income_cat\"].value_counts()/len(strat_train_set)"
   ]
  },
  {
   "cell_type": "code",
   "execution_count": 4,
   "metadata": {},
   "outputs": [
    {
     "data": {
      "text/plain": [
       "3.0    0.350533\n",
       "2.0    0.318798\n",
       "4.0    0.176357\n",
       "5.0    0.114583\n",
       "1.0    0.039729\n",
       "Name: income_cat, dtype: float64"
      ]
     },
     "execution_count": 4,
     "metadata": {},
     "output_type": "execute_result"
    }
   ],
   "source": [
    "# Look the test set distribution\n",
    "strat_test_set[\"income_cat\"].value_counts()/len(strat_test_set)"
   ]
  },
  {
   "cell_type": "markdown",
   "metadata": {},
   "source": [
    "## Linear regression"
   ]
  },
  {
   "cell_type": "code",
   "execution_count": 1,
   "metadata": {},
   "outputs": [
    {
     "name": "stdout",
     "output_type": "stream",
     "text": [
      "<class 'pandas.core.frame.DataFrame'>\n",
      "RangeIndex: 626 entries, 0 to 625\n",
      "Data columns (total 8 columns):\n",
      " #   Column       Non-Null Count  Dtype  \n",
      "---  ------       --------------  -----  \n",
      " 0   state        626 non-null    object \n",
      " 1   numcol       626 non-null    float64\n",
      " 2   yieldpercol  626 non-null    int64  \n",
      " 3   totalprod    626 non-null    float64\n",
      " 4   stocks       626 non-null    float64\n",
      " 5   priceperlb   626 non-null    float64\n",
      " 6   prodvalue    626 non-null    float64\n",
      " 7   year         626 non-null    int64  \n",
      "dtypes: float64(5), int64(2), object(1)\n",
      "memory usage: 39.2+ KB\n",
      "None\n"
     ]
    }
   ],
   "source": [
    "#Importing libraries\n",
    "import pandas as pd\n",
    "import matplotlib.pyplot as plt\n",
    "import numpy as np\n",
    "from sklearn import linear_model\n",
    "# Load the dataset\n",
    "url = 'https://raw.githubusercontent.com/ricardopretelt/data-analysis-in-python/master/databases/honeyproduction.csv'\n",
    "df = pd.read_csv(url)\n",
    "# To learn about the dataset we are going to analyze.\n",
    "print(df.info())"
   ]
  },
  {
   "cell_type": "code",
   "execution_count": 252,
   "metadata": {},
   "outputs": [
    {
     "name": "stdout",
     "output_type": "stream",
     "text": [
      "  state    numcol  yieldpercol   totalprod      stocks  priceperlb  \\\n",
      "0    AL   16000.0           71   1136000.0    159000.0        0.72   \n",
      "1    AZ   55000.0           60   3300000.0   1485000.0        0.64   \n",
      "2    AR   53000.0           65   3445000.0   1688000.0        0.59   \n",
      "3    CA  450000.0           83  37350000.0  12326000.0        0.62   \n",
      "4    CO   27000.0           72   1944000.0   1594000.0        0.70   \n",
      "\n",
      "    prodvalue  year  \n",
      "0    818000.0  1998  \n",
      "1   2112000.0  1998  \n",
      "2   2033000.0  1998  \n",
      "3  23157000.0  1998  \n",
      "4   1361000.0  1998  \n"
     ]
    }
   ],
   "source": [
    "# Preview of the dataset\n",
    "print(df.head())"
   ]
  },
  {
   "cell_type": "code",
   "execution_count": 253,
   "metadata": {},
   "outputs": [
    {
     "name": "stdout",
     "output_type": "stream",
     "text": [
      "    year     totalprod\n",
      "0   1998  5.105093e+06\n",
      "1   1999  4.706674e+06\n",
      "2   2000  5.106000e+06\n",
      "3   2001  4.221545e+06\n",
      "4   2002  3.892386e+06\n",
      "5   2003  4.122091e+06\n",
      "6   2004  4.456805e+06\n",
      "7   2005  4.243146e+06\n",
      "8   2006  3.761902e+06\n",
      "9   2007  3.600512e+06\n",
      "10  2008  3.974927e+06\n",
      "11  2009  3.626700e+06\n",
      "12  2010  4.382350e+06\n",
      "13  2011  3.680025e+06\n",
      "14  2012  3.522675e+06\n"
     ]
    }
   ],
   "source": [
    "#To print the query with the production grouped by year\n",
    "prod_per_year=df.groupby('year').totalprod.mean().reset_index()\n",
    "print(prod_per_year)"
   ]
  },
  {
   "cell_type": "code",
   "execution_count": 254,
   "metadata": {},
   "outputs": [
    {
     "data": {
      "text/plain": [
       "<matplotlib.collections.PathCollection at 0x7f646231bb00>"
      ]
     },
     "execution_count": 254,
     "metadata": {},
     "output_type": "execute_result"
    },
    {
     "data": {
      "image/png": "[encoded data removed]",
      "text/plain": [
       "<Figure size 432x288 with 1 Axes>"
      ]
     },
     "metadata": {},
     "output_type": "display_data"
    }
   ],
   "source": [
    "#Saving the years of production in the dataset in a different value X, also the production in Y\n",
    "X= prod_per_year[\"year\"]\n",
    "Y=prod_per_year[\"totalprod\"]\n",
    "#plotting\n",
    "plt.scatter(X,Y)"
   ]
  },
  {
   "cell_type": "code",
   "execution_count": 255,
   "metadata": {},
   "outputs": [
    {
     "name": "stdout",
     "output_type": "stream",
     "text": [
      "-88303.18915238192\n",
      "181208083.10732976\n"
     ]
    }
   ],
   "source": [
    "#Creating the linear regression model in scikit-learn, and printing the parameters\n",
    "regr = linear_model.LinearRegression()\n",
    "#Reshaping X\n",
    "X = X.values.reshape(-1, 1)\n",
    "regr.fit(X,Y)\n",
    "print(regr.coef_[0])\n",
    "print(regr.intercept_)"
   ]
  },
  {
   "cell_type": "code",
   "execution_count": 256,
   "metadata": {
    "scrolled": false
   },
   "outputs": [
    {
     "data": {
      "image/png": "[encoded data removed]",
      "text/plain": [
       "<Figure size 432x288 with 1 Axes>"
      ]
     },
     "metadata": {},
     "output_type": "display_data"
    }
   ],
   "source": [
    "#Creating list that represent the future years until 2051\n",
    "X_future=np.array(range(2013,2051))\n",
    "X_future=X_future.reshape(-1,1)\n",
    "#Predicting the production for the upcoming years and plotting\n",
    "y_predict=regr.predict(X)\n",
    "future_predict=regr.predict(X_future)\n",
    "plt.scatter(X,Y)\n",
    "plt.plot(X,y_predict)\n",
    "plt.plot(X_future, future_predict)\n",
    "plt.show()"
   ]
  }
 ],
 "metadata": {
  "kernelspec": {
   "display_name": "Python 3",
   "language": "python",
   "name": "python3"
  },
  "language_info": {
   "codemirror_mode": {
    "name": "ipython",
    "version": 3
   },
   "file_extension": ".py",
   "mimetype": "text/x-python",
   "name": "python",
   "nbconvert_exporter": "python",
   "pygments_lexer": "ipython3",
   "version": "3.6.12"
  }
 },
 "nbformat": 4,
 "nbformat_minor": 2
}
