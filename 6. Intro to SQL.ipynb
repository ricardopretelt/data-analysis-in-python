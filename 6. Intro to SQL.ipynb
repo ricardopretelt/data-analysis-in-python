{
 "cells": [
  {
   "cell_type": "markdown",
   "metadata": {},
   "source": [
    "# Intro to SQL in python"
   ]
  },
  {
   "cell_type": "code",
   "execution_count": 2,
   "metadata": {},
   "outputs": [],
   "source": [
    "# To use SQL ipython-sql pacakge is downloaded. Use pip install ipython-sql \n",
    "#The ipython-sql library is loaded using %load_ext.\n",
    "# Import SQL libraries\n",
    "import sqlite3\n",
    "%load_ext sql"
   ]
  },
  {
   "cell_type": "markdown",
   "metadata": {},
   "source": [
    "## Create a database in SQL"
   ]
  },
  {
   "cell_type": "code",
   "execution_count": 3,
   "metadata": {},
   "outputs": [],
   "source": [
    "# Create the database that contains all the dataframes\n",
    "%sql sqlite:///databases/database.db3"
   ]
  },
  {
   "cell_type": "code",
   "execution_count": 4,
   "metadata": {},
   "outputs": [],
   "source": [
    "# Load the restaurants dataframe\n",
    "url = 'https://raw.githubusercontent.com/ricardopretelt/data-analysis-in-python/master/databases/Datafiniti_Fast_Food_Restaurants.csv'\n",
    "restaurants = pd.read_csv(url)\n",
    "# Create the employee dataframe\n",
    "employee = pd.DataFrame({\n",
    "  'ID': [1, 2, 3, 4],\n",
    "  'Name': [\"Richard\", \"Claudia\", \"Phillip\", \"Mary\"],\n",
    "  'Last_Name': [\"white\", \"Anderson\", \"Johnson\", \"Smith\"],\n",
    "  'Gender': [\"Male\", \"Female\", \"Male\", \"Female\"],\n",
    "  'Job': [\"Assistant\", \"Manager\", \"Engineer\", \"Director\"],\n",
    "  'Salary': [1400, 2000, 2200, 3000],\n",
    "})"
   ]
  },
  {
   "cell_type": "code",
   "execution_count": 5,
   "metadata": {
    "scrolled": true
   },
   "outputs": [
    {
     "name": "stdout",
     "output_type": "stream",
     "text": [
      " * sqlite:///databases/database.db3\n",
      " * sqlite:///databases/database.db3\n"
     ]
    },
    {
     "data": {
      "text/plain": [
       "'Persisted employee'"
      ]
     },
     "execution_count": 5,
     "metadata": {},
     "output_type": "execute_result"
    }
   ],
   "source": [
    "# Persist the dataframes inside the database with PERSIST.\n",
    "%sql --persist restaurants\n",
    "%sql --persist employee"
   ]
  },
  {
   "cell_type": "markdown",
   "metadata": {},
   "source": [
    "## Queries"
   ]
  },
  {
   "cell_type": "code",
   "execution_count": 8,
   "metadata": {
    "scrolled": true
   },
   "outputs": [
    {
     "name": "stdout",
     "output_type": "stream",
     "text": [
      " * sqlite:///databases/database.db3\n",
      "Done.\n"
     ]
    },
    {
     "data": {
      "text/html": [
       "<table>\n",
       "    <tr>\n",
       "        <th>index</th>\n",
       "        <th>id</th>\n",
       "        <th>dateAdded</th>\n",
       "        <th>dateUpdated</th>\n",
       "        <th>address</th>\n",
       "        <th>categories</th>\n",
       "        <th>city</th>\n",
       "        <th>country</th>\n",
       "        <th>keys</th>\n",
       "        <th>latitude</th>\n",
       "        <th>longitude</th>\n",
       "        <th>name</th>\n",
       "        <th>postalCode</th>\n",
       "        <th>province</th>\n",
       "        <th>sourceURLs</th>\n",
       "        <th>websites</th>\n",
       "    </tr>\n",
       "    <tr>\n",
       "        <td>0</td>\n",
       "        <td>AVwcmSyZIN2L1WUfmxyw</td>\n",
       "        <td>2015-10-19T23:47:58Z</td>\n",
       "        <td>2018-06-26T03:00:14Z</td>\n",
       "        <td>800 N Canal Blvd</td>\n",
       "        <td>American Restaurant and Fast Food Restaurant</td>\n",
       "        <td>Thibodaux</td>\n",
       "        <td>US</td>\n",
       "        <td>us/la/thibodaux/800ncanalblvd/1780593795</td>\n",
       "        <td>29.814697</td>\n",
       "        <td>-90.81474200000001</td>\n",
       "        <td>SONIC Drive In</td>\n",
       "        <td>70301</td>\n",
       "        <td>LA</td>\n",
       "        <td>https://foursquare.com/v/sonic-drive-in/4b73615df964a520abab2de3/menu,https://foursquare.com/v/sonic-drive-in/4b73615df964a520abab2de3,http://tripadvisor.com/Restaurant_Review-g40459-d4654052-Reviews-Sonic_Drive_In-Thibodaux_Louisiana.html,https://www.yellowpages.com/thibodaux-la/mip/sonic-drive-in-468367546</td>\n",
       "        <td>https://locations.sonicdrivein.com/la/thibodaux/800-north-canal-boulevard.html,http://sonicdrivein.com,http://www.sonicdrivein.com</td>\n",
       "    </tr>\n",
       "    <tr>\n",
       "        <td>1</td>\n",
       "        <td>AVwcmSyZIN2L1WUfmxyw</td>\n",
       "        <td>2015-10-19T23:47:58Z</td>\n",
       "        <td>2018-06-26T03:00:14Z</td>\n",
       "        <td>800 N Canal Blvd</td>\n",
       "        <td>Fast Food Restaurants</td>\n",
       "        <td>Thibodaux</td>\n",
       "        <td>US</td>\n",
       "        <td>us/la/thibodaux/800ncanalblvd/1780593795</td>\n",
       "        <td>29.814697</td>\n",
       "        <td>-90.81474200000001</td>\n",
       "        <td>SONIC Drive In</td>\n",
       "        <td>70301</td>\n",
       "        <td>LA</td>\n",
       "        <td>https://foursquare.com/v/sonic-drive-in/4b73615df964a520abab2de3/menu,https://foursquare.com/v/sonic-drive-in/4b73615df964a520abab2de3,http://tripadvisor.com/Restaurant_Review-g40459-d4654052-Reviews-Sonic_Drive_In-Thibodaux_Louisiana.html,https://www.yellowpages.com/thibodaux-la/mip/sonic-drive-in-468367546</td>\n",
       "        <td>https://locations.sonicdrivein.com/la/thibodaux/800-north-canal-boulevard.html,http://sonicdrivein.com,http://www.sonicdrivein.com</td>\n",
       "    </tr>\n",
       "    <tr>\n",
       "        <td>2</td>\n",
       "        <td>AVwcopQoByjofQCxgfVa</td>\n",
       "        <td>2016-03-29T05:06:36Z</td>\n",
       "        <td>2018-06-26T02:59:52Z</td>\n",
       "        <td>206 Wears Valley Rd</td>\n",
       "        <td>Fast Food Restaurant</td>\n",
       "        <td>Pigeon Forge</td>\n",
       "        <td>US</td>\n",
       "        <td>us/tn/pigeonforge/206wearsvalleyrd/-864103396</td>\n",
       "        <td>35.803788</td>\n",
       "        <td>-83.58055300000001</td>\n",
       "        <td>Taco Bell</td>\n",
       "        <td>37863</td>\n",
       "        <td>TN</td>\n",
       "        <td>https://www.yellowpages.com/pigeon-forge-tn/mip/taco-bell-474241430,https://foursquare.com/v/taco-bell/4ded6885d22deb0316df557d/menu,https://foursquare.com/v/taco-bell/4ded6885d22deb0316df557d</td>\n",
       "        <td>http://www.tacobell.com,https://locations.tacobell.com/tn/pigeon-forge/206-wears-valley-road.html?utm_source=yextandutm_campaign=yextpowerlistingsandutm_medium=referralandutm_term=026432andutm_content=website</td>\n",
       "    </tr>\n",
       "    <tr>\n",
       "        <td>3</td>\n",
       "        <td>AVweXN5RByjofQCxxilK</td>\n",
       "        <td>2017-01-03T07:46:11Z</td>\n",
       "        <td>2018-06-26T02:59:51Z</td>\n",
       "        <td>3652 Parkway</td>\n",
       "        <td>Fast Food</td>\n",
       "        <td>Pigeon Forge</td>\n",
       "        <td>US</td>\n",
       "        <td>us/tn/pigeonforge/3652parkway/93075755</td>\n",
       "        <td>35.782339</td>\n",
       "        <td>-83.551408</td>\n",
       "        <td>Arby&#x27;s</td>\n",
       "        <td>37863</td>\n",
       "        <td>TN</td>\n",
       "        <td>http://www.yellowbook.com/profile/arbys_1633893026.html,https://foursquare.com/v/arbys/4bae29f8f964a520348c3be3,https://www.yellowpages.com/pigeon-forge-tn/mip/arbys-6911678,https://www.allmenus.com/tn/pigeon-forge/166343-arbys/menu/,http://tripadvisor.com/Restaurant_Review-g55270-d1123265-Reviews-Arby_s-Pigeon_Forge_Tennessee.html,http://www.citysearch.com/profile/9409306/pigeon_forge_tn/arby_s.html</td>\n",
       "        <td>http://www.arbys.com,https://locations.arbys.com/us/tn/pigeon-forge/3652-parkway.html</td>\n",
       "    </tr>\n",
       "</table>"
      ],
      "text/plain": [
       "[(0, 'AVwcmSyZIN2L1WUfmxyw', '2015-10-19T23:47:58Z', '2018-06-26T03:00:14Z', '800 N Canal Blvd', 'American Restaurant and Fast Food Restaurant', 'Thibodaux', 'US', 'us/la/thibodaux/800ncanalblvd/1780593795', 29.814697, -90.81474200000001, 'SONIC Drive In', '70301', 'LA', 'https://foursquare.com/v/sonic-drive-in/4b73615df964a520abab2de3/menu,https://foursquare.com/v/sonic-drive-in/4b73615df964a520abab2de3,http://tripadv ... (11 characters truncated) ... staurant_Review-g40459-d4654052-Reviews-Sonic_Drive_In-Thibodaux_Louisiana.html,https://www.yellowpages.com/thibodaux-la/mip/sonic-drive-in-468367546', 'https://locations.sonicdrivein.com/la/thibodaux/800-north-canal-boulevard.html,http://sonicdrivein.com,http://www.sonicdrivein.com'),\n",
       " (1, 'AVwcmSyZIN2L1WUfmxyw', '2015-10-19T23:47:58Z', '2018-06-26T03:00:14Z', '800 N Canal Blvd', 'Fast Food Restaurants', 'Thibodaux', 'US', 'us/la/thibodaux/800ncanalblvd/1780593795', 29.814697, -90.81474200000001, 'SONIC Drive In', '70301', 'LA', 'https://foursquare.com/v/sonic-drive-in/4b73615df964a520abab2de3/menu,https://foursquare.com/v/sonic-drive-in/4b73615df964a520abab2de3,http://tripadv ... (11 characters truncated) ... staurant_Review-g40459-d4654052-Reviews-Sonic_Drive_In-Thibodaux_Louisiana.html,https://www.yellowpages.com/thibodaux-la/mip/sonic-drive-in-468367546', 'https://locations.sonicdrivein.com/la/thibodaux/800-north-canal-boulevard.html,http://sonicdrivein.com,http://www.sonicdrivein.com'),\n",
       " (2, 'AVwcopQoByjofQCxgfVa', '2016-03-29T05:06:36Z', '2018-06-26T02:59:52Z', '206 Wears Valley Rd', 'Fast Food Restaurant', 'Pigeon Forge', 'US', 'us/tn/pigeonforge/206wearsvalleyrd/-864103396', 35.803788, -83.58055300000001, 'Taco Bell', '37863', 'TN', 'https://www.yellowpages.com/pigeon-forge-tn/mip/taco-bell-474241430,https://foursquare.com/v/taco-bell/4ded6885d22deb0316df557d/menu,https://foursquare.com/v/taco-bell/4ded6885d22deb0316df557d', 'http://www.tacobell.com,https://locations.tacobell.com/tn/pigeon-forge/206-wears-valley-road.html?utm_source=yextandutm_campaign=yextpowerlistingsandutm_medium=referralandutm_term=026432andutm_content=website'),\n",
       " (3, 'AVweXN5RByjofQCxxilK', '2017-01-03T07:46:11Z', '2018-06-26T02:59:51Z', '3652 Parkway', 'Fast Food', 'Pigeon Forge', 'US', 'us/tn/pigeonforge/3652parkway/93075755', 35.782339, -83.551408, \"Arby's\", '37863', 'TN', 'http://www.yellowbook.com/profile/arbys_1633893026.html,https://foursquare.com/v/arbys/4bae29f8f964a520348c3be3,https://www.yellowpages.com/pigeon-fo ... (105 characters truncated) ... om/Restaurant_Review-g55270-d1123265-Reviews-Arby_s-Pigeon_Forge_Tennessee.html,http://www.citysearch.com/profile/9409306/pigeon_forge_tn/arby_s.html', 'http://www.arbys.com,https://locations.arbys.com/us/tn/pigeon-forge/3652-parkway.html')]"
      ]
     },
     "execution_count": 8,
     "metadata": {},
     "output_type": "execute_result"
    }
   ],
   "source": [
    "# Do a query in SQL with just 4 instances\n",
    "%sql SELECT * FROM restaurants LIMIT 4;"
   ]
  },
  {
   "cell_type": "code",
   "execution_count": 9,
   "metadata": {
    "scrolled": true
   },
   "outputs": [
    {
     "name": "stdout",
     "output_type": "stream",
     "text": [
      " * sqlite:///databases/database.db3\n",
      "Done.\n"
     ]
    },
    {
     "data": {
      "text/html": [
       "<table>\n",
       "    <tr>\n",
       "        <th>city</th>\n",
       "        <th>country</th>\n",
       "        <th>name</th>\n",
       "    </tr>\n",
       "    <tr>\n",
       "        <td>Thibodaux</td>\n",
       "        <td>US</td>\n",
       "        <td>SONIC Drive In</td>\n",
       "    </tr>\n",
       "    <tr>\n",
       "        <td>Thibodaux</td>\n",
       "        <td>US</td>\n",
       "        <td>SONIC Drive In</td>\n",
       "    </tr>\n",
       "    <tr>\n",
       "        <td>Pigeon Forge</td>\n",
       "        <td>US</td>\n",
       "        <td>Taco Bell</td>\n",
       "    </tr>\n",
       "    <tr>\n",
       "        <td>Pigeon Forge</td>\n",
       "        <td>US</td>\n",
       "        <td>Arby&#x27;s</td>\n",
       "    </tr>\n",
       "</table>"
      ],
      "text/plain": [
       "[('Thibodaux', 'US', 'SONIC Drive In'),\n",
       " ('Thibodaux', 'US', 'SONIC Drive In'),\n",
       " ('Pigeon Forge', 'US', 'Taco Bell'),\n",
       " ('Pigeon Forge', 'US', \"Arby's\")]"
      ]
     },
     "execution_count": 9,
     "metadata": {},
     "output_type": "execute_result"
    }
   ],
   "source": [
    "# do a query with specific columns\n",
    "%sql SELECT city, country, name FROM restaurants LIMIT 4;"
   ]
  },
  {
   "cell_type": "code",
   "execution_count": 10,
   "metadata": {
    "scrolled": true
   },
   "outputs": [
    {
     "name": "stdout",
     "output_type": "stream",
     "text": [
      " * sqlite:///databases/database.db3\n",
      "Done.\n"
     ]
    },
    {
     "data": {
      "text/html": [
       "<table>\n",
       "    <tr>\n",
       "        <th>index</th>\n",
       "        <th>ID</th>\n",
       "        <th>Name</th>\n",
       "        <th>Last_Name</th>\n",
       "        <th>Gender</th>\n",
       "        <th>Job</th>\n",
       "        <th>Salary</th>\n",
       "    </tr>\n",
       "    <tr>\n",
       "        <td>0</td>\n",
       "        <td>1</td>\n",
       "        <td>Richard</td>\n",
       "        <td>white</td>\n",
       "        <td>Male</td>\n",
       "        <td>Assistant</td>\n",
       "        <td>1400</td>\n",
       "    </tr>\n",
       "    <tr>\n",
       "        <td>1</td>\n",
       "        <td>2</td>\n",
       "        <td>Claudia</td>\n",
       "        <td>Anderson</td>\n",
       "        <td>Female</td>\n",
       "        <td>Manager</td>\n",
       "        <td>2000</td>\n",
       "    </tr>\n",
       "    <tr>\n",
       "        <td>2</td>\n",
       "        <td>3</td>\n",
       "        <td>Phillip</td>\n",
       "        <td>Johnson</td>\n",
       "        <td>Male</td>\n",
       "        <td>Engineer</td>\n",
       "        <td>2200</td>\n",
       "    </tr>\n",
       "    <tr>\n",
       "        <td>3</td>\n",
       "        <td>4</td>\n",
       "        <td>Mary</td>\n",
       "        <td>Smith</td>\n",
       "        <td>Female</td>\n",
       "        <td>Director</td>\n",
       "        <td>3000</td>\n",
       "    </tr>\n",
       "</table>"
      ],
      "text/plain": [
       "[(0, 1, 'Richard', 'white', 'Male', 'Assistant', 1400),\n",
       " (1, 2, 'Claudia', 'Anderson', 'Female', 'Manager', 2000),\n",
       " (2, 3, 'Phillip', 'Johnson', 'Male', 'Engineer', 2200),\n",
       " (3, 4, 'Mary', 'Smith', 'Female', 'Director', 3000)]"
      ]
     },
     "execution_count": 10,
     "metadata": {},
     "output_type": "execute_result"
    }
   ],
   "source": [
    "# Order a query from min to max\n",
    "%sql SELECT * FROM employee ORDER BY Salary;"
   ]
  },
  {
   "cell_type": "code",
   "execution_count": 11,
   "metadata": {},
   "outputs": [
    {
     "name": "stdout",
     "output_type": "stream",
     "text": [
      " * sqlite:///databases/database.db3\n",
      "Done.\n"
     ]
    },
    {
     "data": {
      "text/html": [
       "<table>\n",
       "    <tr>\n",
       "        <th>index</th>\n",
       "        <th>ID</th>\n",
       "        <th>Name</th>\n",
       "        <th>Last_Name</th>\n",
       "        <th>Gender</th>\n",
       "        <th>Job</th>\n",
       "        <th>Salary</th>\n",
       "    </tr>\n",
       "    <tr>\n",
       "        <td>3</td>\n",
       "        <td>4</td>\n",
       "        <td>Mary</td>\n",
       "        <td>Smith</td>\n",
       "        <td>Female</td>\n",
       "        <td>Director</td>\n",
       "        <td>3000</td>\n",
       "    </tr>\n",
       "    <tr>\n",
       "        <td>2</td>\n",
       "        <td>3</td>\n",
       "        <td>Phillip</td>\n",
       "        <td>Johnson</td>\n",
       "        <td>Male</td>\n",
       "        <td>Engineer</td>\n",
       "        <td>2200</td>\n",
       "    </tr>\n",
       "    <tr>\n",
       "        <td>1</td>\n",
       "        <td>2</td>\n",
       "        <td>Claudia</td>\n",
       "        <td>Anderson</td>\n",
       "        <td>Female</td>\n",
       "        <td>Manager</td>\n",
       "        <td>2000</td>\n",
       "    </tr>\n",
       "    <tr>\n",
       "        <td>0</td>\n",
       "        <td>1</td>\n",
       "        <td>Richard</td>\n",
       "        <td>white</td>\n",
       "        <td>Male</td>\n",
       "        <td>Assistant</td>\n",
       "        <td>1400</td>\n",
       "    </tr>\n",
       "</table>"
      ],
      "text/plain": [
       "[(3, 4, 'Mary', 'Smith', 'Female', 'Director', 3000),\n",
       " (2, 3, 'Phillip', 'Johnson', 'Male', 'Engineer', 2200),\n",
       " (1, 2, 'Claudia', 'Anderson', 'Female', 'Manager', 2000),\n",
       " (0, 1, 'Richard', 'white', 'Male', 'Assistant', 1400)]"
      ]
     },
     "execution_count": 11,
     "metadata": {},
     "output_type": "execute_result"
    }
   ],
   "source": [
    "# Order a query from max to min\n",
    "%sql SELECT * FROM employee ORDER BY Salary DESC;"
   ]
  },
  {
   "cell_type": "code",
   "execution_count": 12,
   "metadata": {
    "scrolled": true
   },
   "outputs": [
    {
     "name": "stdout",
     "output_type": "stream",
     "text": [
      " * sqlite:///databases/database.db3\n",
      "Done.\n"
     ]
    },
    {
     "data": {
      "text/html": [
       "<table>\n",
       "    <tr>\n",
       "        <th>Name</th>\n",
       "        <th>Salary</th>\n",
       "    </tr>\n",
       "    <tr>\n",
       "        <td>Phillip</td>\n",
       "        <td>2200</td>\n",
       "    </tr>\n",
       "    <tr>\n",
       "        <td>Mary</td>\n",
       "        <td>3000</td>\n",
       "    </tr>\n",
       "</table>"
      ],
      "text/plain": [
       "[('Phillip', 2200), ('Mary', 3000)]"
      ]
     },
     "execution_count": 12,
     "metadata": {},
     "output_type": "execute_result"
    }
   ],
   "source": [
    "# do a query with a condition in a column\n",
    "%sql SELECT Name, Salary FROM employee WHERE Salary>2000;"
   ]
  },
  {
   "cell_type": "code",
   "execution_count": 13,
   "metadata": {
    "scrolled": true
   },
   "outputs": [
    {
     "name": "stdout",
     "output_type": "stream",
     "text": [
      " * sqlite:///databases/database.db3\n",
      "Done.\n"
     ]
    },
    {
     "data": {
      "text/html": [
       "<table>\n",
       "    <tr>\n",
       "        <th>Name</th>\n",
       "        <th>Salary</th>\n",
       "    </tr>\n",
       "    <tr>\n",
       "        <td>Mary</td>\n",
       "        <td>3000</td>\n",
       "    </tr>\n",
       "</table>"
      ],
      "text/plain": [
       "[('Mary', 3000)]"
      ]
     },
     "execution_count": 13,
     "metadata": {},
     "output_type": "execute_result"
    }
   ],
   "source": [
    "# To use operators and conditionals\n",
    "# do a query with a condition in a column\n",
    "%sql SELECT Name, Salary FROM employee WHERE Salary>2000+200"
   ]
  },
  {
   "cell_type": "code",
   "execution_count": 14,
   "metadata": {
    "scrolled": true
   },
   "outputs": [
    {
     "name": "stdout",
     "output_type": "stream",
     "text": [
      " * sqlite:///databases/database.db3\n",
      "Done.\n"
     ]
    },
    {
     "data": {
      "text/html": [
       "<table>\n",
       "    <tr>\n",
       "        <th>index</th>\n",
       "        <th>ID</th>\n",
       "        <th>Name</th>\n",
       "        <th>Last_Name</th>\n",
       "        <th>Gender</th>\n",
       "        <th>Job</th>\n",
       "        <th>Salary</th>\n",
       "    </tr>\n",
       "    <tr>\n",
       "        <td>0</td>\n",
       "        <td>1</td>\n",
       "        <td>Richard</td>\n",
       "        <td>white</td>\n",
       "        <td>Male</td>\n",
       "        <td>Assistant</td>\n",
       "        <td>1400</td>\n",
       "    </tr>\n",
       "    <tr>\n",
       "        <td>2</td>\n",
       "        <td>3</td>\n",
       "        <td>Phillip</td>\n",
       "        <td>Johnson</td>\n",
       "        <td>Male</td>\n",
       "        <td>Engineer</td>\n",
       "        <td>2200</td>\n",
       "    </tr>\n",
       "    <tr>\n",
       "        <td>3</td>\n",
       "        <td>4</td>\n",
       "        <td>Mary</td>\n",
       "        <td>Smith</td>\n",
       "        <td>Female</td>\n",
       "        <td>Director</td>\n",
       "        <td>3000</td>\n",
       "    </tr>\n",
       "</table>"
      ],
      "text/plain": [
       "[(0, 1, 'Richard', 'white', 'Male', 'Assistant', 1400),\n",
       " (2, 3, 'Phillip', 'Johnson', 'Male', 'Engineer', 2200),\n",
       " (3, 4, 'Mary', 'Smith', 'Female', 'Director', 3000)]"
      ]
     },
     "execution_count": 14,
     "metadata": {},
     "output_type": "execute_result"
    }
   ],
   "source": [
    "# Or operator\n",
    "%sql SELECT * FROM employee WHERE (Salary>2000) or (Gender='Male')"
   ]
  },
  {
   "cell_type": "code",
   "execution_count": 15,
   "metadata": {},
   "outputs": [
    {
     "name": "stdout",
     "output_type": "stream",
     "text": [
      " * sqlite:///databases/database.db3\n",
      "Done.\n"
     ]
    },
    {
     "data": {
      "text/html": [
       "<table>\n",
       "    <tr>\n",
       "        <th>index</th>\n",
       "        <th>ID</th>\n",
       "        <th>Name</th>\n",
       "        <th>Last_Name</th>\n",
       "        <th>Gender</th>\n",
       "        <th>Job</th>\n",
       "        <th>Salary</th>\n",
       "    </tr>\n",
       "    <tr>\n",
       "        <td>1</td>\n",
       "        <td>2</td>\n",
       "        <td>Claudia</td>\n",
       "        <td>Anderson</td>\n",
       "        <td>Female</td>\n",
       "        <td>Manager</td>\n",
       "        <td>2000</td>\n",
       "    </tr>\n",
       "    <tr>\n",
       "        <td>3</td>\n",
       "        <td>4</td>\n",
       "        <td>Mary</td>\n",
       "        <td>Smith</td>\n",
       "        <td>Female</td>\n",
       "        <td>Director</td>\n",
       "        <td>3000</td>\n",
       "    </tr>\n",
       "</table>"
      ],
      "text/plain": [
       "[(1, 2, 'Claudia', 'Anderson', 'Female', 'Manager', 2000),\n",
       " (3, 4, 'Mary', 'Smith', 'Female', 'Director', 3000)]"
      ]
     },
     "execution_count": 15,
     "metadata": {},
     "output_type": "execute_result"
    }
   ],
   "source": [
    "# And operator\n",
    "%sql SELECT * FROM employee WHERE (Salary>1000) and (Gender='Female')"
   ]
  },
  {
   "cell_type": "code",
   "execution_count": 16,
   "metadata": {},
   "outputs": [
    {
     "name": "stdout",
     "output_type": "stream",
     "text": [
      " * sqlite:///databases/database.db3\n",
      "Done.\n"
     ]
    },
    {
     "data": {
      "text/html": [
       "<table>\n",
       "    <tr>\n",
       "        <th>index</th>\n",
       "        <th>ID</th>\n",
       "        <th>Name</th>\n",
       "        <th>Last_Name</th>\n",
       "        <th>Gender</th>\n",
       "        <th>Job</th>\n",
       "        <th>Salary</th>\n",
       "    </tr>\n",
       "    <tr>\n",
       "        <td>2</td>\n",
       "        <td>3</td>\n",
       "        <td>Phillip</td>\n",
       "        <td>Johnson</td>\n",
       "        <td>Male</td>\n",
       "        <td>Engineer</td>\n",
       "        <td>2200</td>\n",
       "    </tr>\n",
       "</table>"
      ],
      "text/plain": [
       "[(2, 3, 'Phillip', 'Johnson', 'Male', 'Engineer', 2200)]"
      ]
     },
     "execution_count": 16,
     "metadata": {},
     "output_type": "execute_result"
    }
   ],
   "source": [
    "# Not operator\n",
    "%sql SELECT * FROM employee WHERE ID not in (1,2,4)"
   ]
  },
  {
   "cell_type": "code",
   "execution_count": 17,
   "metadata": {},
   "outputs": [
    {
     "name": "stdout",
     "output_type": "stream",
     "text": [
      " * sqlite:///databases/database.db3\n",
      "Done.\n"
     ]
    },
    {
     "data": {
      "text/html": [
       "<table>\n",
       "    <tr>\n",
       "        <th>Name</th>\n",
       "        <th>Salary</th>\n",
       "    </tr>\n",
       "    <tr>\n",
       "        <td>Claudia</td>\n",
       "        <td>2000</td>\n",
       "    </tr>\n",
       "    <tr>\n",
       "        <td>Phillip</td>\n",
       "        <td>2200</td>\n",
       "    </tr>\n",
       "</table>"
      ],
      "text/plain": [
       "[('Claudia', 2000), ('Phillip', 2200)]"
      ]
     },
     "execution_count": 17,
     "metadata": {},
     "output_type": "execute_result"
    }
   ],
   "source": [
    "# To use the BETWEEN operator for conditionals\n",
    "%sql SELECT Name, Salary FROM employee WHERE Salary BETWEEN 2000 and 2200"
   ]
  },
  {
   "cell_type": "code",
   "execution_count": 18,
   "metadata": {
    "scrolled": true
   },
   "outputs": [
    {
     "name": "stdout",
     "output_type": "stream",
     "text": [
      " * sqlite:///databases/database.db3\n",
      "Done.\n"
     ]
    },
    {
     "data": {
      "text/html": [
       "<table>\n",
       "    <tr>\n",
       "        <th>city</th>\n",
       "        <th>country</th>\n",
       "        <th>Restaurants</th>\n",
       "    </tr>\n",
       "    <tr>\n",
       "        <td>Thibodaux</td>\n",
       "        <td>US</td>\n",
       "        <td>SONIC Drive In</td>\n",
       "    </tr>\n",
       "    <tr>\n",
       "        <td>Thibodaux</td>\n",
       "        <td>US</td>\n",
       "        <td>SONIC Drive In</td>\n",
       "    </tr>\n",
       "    <tr>\n",
       "        <td>Pigeon Forge</td>\n",
       "        <td>US</td>\n",
       "        <td>Taco Bell</td>\n",
       "    </tr>\n",
       "    <tr>\n",
       "        <td>Pigeon Forge</td>\n",
       "        <td>US</td>\n",
       "        <td>Arby&#x27;s</td>\n",
       "    </tr>\n",
       "</table>"
      ],
      "text/plain": [
       "[('Thibodaux', 'US', 'SONIC Drive In'),\n",
       " ('Thibodaux', 'US', 'SONIC Drive In'),\n",
       " ('Pigeon Forge', 'US', 'Taco Bell'),\n",
       " ('Pigeon Forge', 'US', \"Arby's\")]"
      ]
     },
     "execution_count": 18,
     "metadata": {},
     "output_type": "execute_result"
    }
   ],
   "source": [
    "# Change the name of a column in a query with As\n",
    "%sql SELECT city, country, name As Restaurants FROM restaurants LIMIT 4;"
   ]
  },
  {
   "cell_type": "code",
   "execution_count": 19,
   "metadata": {
    "scrolled": true
   },
   "outputs": [
    {
     "name": "stdout",
     "output_type": "stream",
     "text": [
      " * sqlite:///databases/database.db3\n",
      "Done.\n"
     ]
    },
    {
     "data": {
      "text/html": [
       "<table>\n",
       "    <tr>\n",
       "        <th>country</th>\n",
       "    </tr>\n",
       "    <tr>\n",
       "        <td>US</td>\n",
       "    </tr>\n",
       "</table>"
      ],
      "text/plain": [
       "[('US',)]"
      ]
     },
     "execution_count": 19,
     "metadata": {},
     "output_type": "execute_result"
    }
   ],
   "source": [
    "# To get list of unique provinces\n",
    "%sql SELECT DISTINCT(country) FROM restaurants;"
   ]
  },
  {
   "cell_type": "code",
   "execution_count": 20,
   "metadata": {},
   "outputs": [
    {
     "name": "stdout",
     "output_type": "stream",
     "text": [
      " * sqlite:///databases/database.db3\n",
      "Done.\n"
     ]
    },
    {
     "data": {
      "text/html": [
       "<table>\n",
       "    <tr>\n",
       "        <th>Salary_Mean</th>\n",
       "    </tr>\n",
       "    <tr>\n",
       "        <td>2150.0</td>\n",
       "    </tr>\n",
       "</table>"
      ],
      "text/plain": [
       "[(2150.0,)]"
      ]
     },
     "execution_count": 20,
     "metadata": {},
     "output_type": "execute_result"
    }
   ],
   "source": [
    "# To get the mean from a column\n",
    "%sql SELECT avg(Salary) as Salary_Mean FROM employee;"
   ]
  },
  {
   "cell_type": "code",
   "execution_count": 21,
   "metadata": {},
   "outputs": [
    {
     "name": "stdout",
     "output_type": "stream",
     "text": [
      " * sqlite:///databases/database.db3\n",
      "Done.\n"
     ]
    },
    {
     "data": {
      "text/html": [
       "<table>\n",
       "    <tr>\n",
       "        <th>City_count</th>\n",
       "    </tr>\n",
       "    <tr>\n",
       "        <td>10000</td>\n",
       "    </tr>\n",
       "</table>"
      ],
      "text/plain": [
       "[(10000,)]"
      ]
     },
     "execution_count": 21,
     "metadata": {},
     "output_type": "execute_result"
    }
   ],
   "source": [
    "# To use count \n",
    "%sql SELECT count(City) as City_count FROM restaurants;"
   ]
  },
  {
   "cell_type": "code",
   "execution_count": 239,
   "metadata": {},
   "outputs": [
    {
     "name": "stdout",
     "output_type": "stream",
     "text": [
      " * sqlite:///databases/database.db3\n",
      "Done.\n"
     ]
    },
    {
     "data": {
      "text/html": [
       "<table>\n",
       "    <tr>\n",
       "        <th>Max_Salary</th>\n",
       "    </tr>\n",
       "    <tr>\n",
       "        <td>3000</td>\n",
       "    </tr>\n",
       "</table>"
      ],
      "text/plain": [
       "[(3000,)]"
      ]
     },
     "execution_count": 239,
     "metadata": {},
     "output_type": "execute_result"
    }
   ],
   "source": [
    "# To use max\n",
    "%sql SELECT max(Salary) as Max_Salary FROM employee;"
   ]
  },
  {
   "cell_type": "code",
   "execution_count": 22,
   "metadata": {},
   "outputs": [
    {
     "name": "stdout",
     "output_type": "stream",
     "text": [
      " * sqlite:///databases/database.db3\n",
      "Done.\n"
     ]
    },
    {
     "data": {
      "text/html": [
       "<table>\n",
       "    <tr>\n",
       "        <th>name</th>\n",
       "        <th>restaurant</th>\n",
       "    </tr>\n",
       "    <tr>\n",
       "        <td>McDonald&#x27;s</td>\n",
       "        <td>1898</td>\n",
       "    </tr>\n",
       "    <tr>\n",
       "        <td>Taco Bell</td>\n",
       "        <td>1032</td>\n",
       "    </tr>\n",
       "    <tr>\n",
       "        <td>Burger King</td>\n",
       "        <td>833</td>\n",
       "    </tr>\n",
       "    <tr>\n",
       "        <td>Subway</td>\n",
       "        <td>776</td>\n",
       "    </tr>\n",
       "</table>"
      ],
      "text/plain": [
       "[(\"McDonald's\", 1898),\n",
       " ('Taco Bell', 1032),\n",
       " ('Burger King', 833),\n",
       " ('Subway', 776)]"
      ]
     },
     "execution_count": 22,
     "metadata": {},
     "output_type": "execute_result"
    }
   ],
   "source": [
    "# To group columns by name to know how many there are per city.\n",
    "%sql SELECT name, count(city) As restaurant FROM restaurants group by name Order by restaurant desc LIMIT 4;"
   ]
  },
  {
   "cell_type": "code",
   "execution_count": 23,
   "metadata": {},
   "outputs": [
    {
     "name": "stdout",
     "output_type": "stream",
     "text": [
      " * sqlite:///databases/database.db3\n",
      "Done.\n"
     ]
    },
    {
     "data": {
      "text/html": [
       "<table>\n",
       "    <tr>\n",
       "        <th>Gender</th>\n",
       "        <th>count_per_gender</th>\n",
       "    </tr>\n",
       "    <tr>\n",
       "        <td>Female</td>\n",
       "        <td>2</td>\n",
       "    </tr>\n",
       "    <tr>\n",
       "        <td>Male</td>\n",
       "        <td>2</td>\n",
       "    </tr>\n",
       "</table>"
      ],
      "text/plain": [
       "[('Female', 2), ('Male', 2)]"
      ]
     },
     "execution_count": 23,
     "metadata": {},
     "output_type": "execute_result"
    }
   ],
   "source": [
    "# To know how many employees are of each sex\n",
    "%sql SELECT Gender, count(*) as count_per_gender FROM employee group by Gender;"
   ]
  },
  {
   "cell_type": "code",
   "execution_count": 24,
   "metadata": {},
   "outputs": [
    {
     "name": "stdout",
     "output_type": "stream",
     "text": [
      " * sqlite:///databases/database.db3\n"
     ]
    },
    {
     "data": {
      "text/plain": [
       "'Persisted articles'"
      ]
     },
     "execution_count": 24,
     "metadata": {},
     "output_type": "execute_result"
    }
   ],
   "source": [
    "# To create a more complex database\n",
    "articles = pd.DataFrame({\n",
    "  'ID': [1, 2, 3, 4, 5, 6, 7, 8, 9, 10],\n",
    "  'Product': [\"TP\", \"Rice\", \"Tomatoes\", \"Mayonnaise\", \"Soap\", \"Bread\", \"Beans\", \"Potatoes\", \"Apples\",\n",
    "             \"Cheese\"],\n",
    "  'Location_Hall': [2, 3, 4, 5, 2, 3, 3, 3, 4, 4],\n",
    "  'Available': [\"Yes\", \"Yes\", \"Yes\", \"Yes\", \"Yes\", \"Yes\", \"Yes\", \"Yes\", \"No\", \"Yes\"],\n",
    "  'Class': [\"A\", \"B\", \"A\", \"A\", \"B\", \"A\", \"B\", \"A\", \"A\", \"B\"],\n",
    "  'Cost': [20, 30, 15, 10, 13, 12, 35, 40, 20, 30]\n",
    "})\n",
    "%sql --persist articles"
   ]
  },
  {
   "cell_type": "code",
   "execution_count": 25,
   "metadata": {},
   "outputs": [
    {
     "name": "stdout",
     "output_type": "stream",
     "text": [
      " * sqlite:///databases/database.db3\n",
      "Done.\n"
     ]
    },
    {
     "data": {
      "text/html": [
       "<table>\n",
       "    <tr>\n",
       "        <th>Class</th>\n",
       "        <th>Product_per_class</th>\n",
       "    </tr>\n",
       "    <tr>\n",
       "        <td>A</td>\n",
       "        <td>6</td>\n",
       "    </tr>\n",
       "    <tr>\n",
       "        <td>B</td>\n",
       "        <td>4</td>\n",
       "    </tr>\n",
       "</table>"
      ],
      "text/plain": [
       "[('A', 6), ('B', 4)]"
      ]
     },
     "execution_count": 25,
     "metadata": {},
     "output_type": "execute_result"
    }
   ],
   "source": [
    "# Group per 1 field\n",
    "%sql SELECT Class, count(*) as Product_per_class FROM articles group by Class;"
   ]
  },
  {
   "cell_type": "code",
   "execution_count": 26,
   "metadata": {},
   "outputs": [
    {
     "name": "stdout",
     "output_type": "stream",
     "text": [
      " * sqlite:///databases/database.db3\n",
      "Done.\n"
     ]
    },
    {
     "data": {
      "text/html": [
       "<table>\n",
       "    <tr>\n",
       "        <th>Class</th>\n",
       "        <th>Available</th>\n",
       "        <th>Products</th>\n",
       "    </tr>\n",
       "    <tr>\n",
       "        <td>A</td>\n",
       "        <td>No</td>\n",
       "        <td>1</td>\n",
       "    </tr>\n",
       "    <tr>\n",
       "        <td>A</td>\n",
       "        <td>Yes</td>\n",
       "        <td>5</td>\n",
       "    </tr>\n",
       "    <tr>\n",
       "        <td>B</td>\n",
       "        <td>Yes</td>\n",
       "        <td>4</td>\n",
       "    </tr>\n",
       "</table>"
      ],
      "text/plain": [
       "[('A', 'No', 1), ('A', 'Yes', 5), ('B', 'Yes', 4)]"
      ]
     },
     "execution_count": 26,
     "metadata": {},
     "output_type": "execute_result"
    }
   ],
   "source": [
    "# Group per 2 fields\n",
    "%sql SELECT Class, Available, count(*) as Products FROM articles group by Class, Available;"
   ]
  },
  {
   "cell_type": "code",
   "execution_count": 27,
   "metadata": {
    "scrolled": true
   },
   "outputs": [
    {
     "name": "stdout",
     "output_type": "stream",
     "text": [
      " * sqlite:///databases/database.db3\n",
      "Done.\n"
     ]
    },
    {
     "data": {
      "text/html": [
       "<table>\n",
       "    <tr>\n",
       "        <th>Location_Hall</th>\n",
       "        <th>Products</th>\n",
       "    </tr>\n",
       "    <tr>\n",
       "        <td>2</td>\n",
       "        <td>2</td>\n",
       "    </tr>\n",
       "    <tr>\n",
       "        <td>3</td>\n",
       "        <td>4</td>\n",
       "    </tr>\n",
       "    <tr>\n",
       "        <td>4</td>\n",
       "        <td>3</td>\n",
       "    </tr>\n",
       "</table>"
      ],
      "text/plain": [
       "[(2, 2), (3, 4), (4, 3)]"
      ]
     },
     "execution_count": 27,
     "metadata": {},
     "output_type": "execute_result"
    }
   ],
   "source": [
    "# Use of having: A condition in groups\n",
    "%sql SELECT Location_Hall, count(*) as Products FROM articles group by Location_Hall HAVING count(*)>1;"
   ]
  },
  {
   "cell_type": "code",
   "execution_count": 28,
   "metadata": {},
   "outputs": [
    {
     "name": "stdout",
     "output_type": "stream",
     "text": [
      " * sqlite:///databases/database.db3\n",
      "Done.\n"
     ]
    },
    {
     "data": {
      "text/html": [
       "<table>\n",
       "    <tr>\n",
       "        <th>index</th>\n",
       "        <th>ID</th>\n",
       "        <th>Product</th>\n",
       "        <th>Location_Hall</th>\n",
       "        <th>Available</th>\n",
       "        <th>Class</th>\n",
       "        <th>Cost</th>\n",
       "    </tr>\n",
       "    <tr>\n",
       "        <td>0</td>\n",
       "        <td>1</td>\n",
       "        <td>TP</td>\n",
       "        <td>2</td>\n",
       "        <td>Yes</td>\n",
       "        <td>A</td>\n",
       "        <td>20</td>\n",
       "    </tr>\n",
       "    <tr>\n",
       "        <td>2</td>\n",
       "        <td>3</td>\n",
       "        <td>Tomatoes</td>\n",
       "        <td>4</td>\n",
       "        <td>Yes</td>\n",
       "        <td>A</td>\n",
       "        <td>15</td>\n",
       "    </tr>\n",
       "</table>"
      ],
      "text/plain": [
       "[(0, 1, 'TP', 2, 'Yes', 'A', 20), (2, 3, 'Tomatoes', 4, 'Yes', 'A', 15)]"
      ]
     },
     "execution_count": 28,
     "metadata": {},
     "output_type": "execute_result"
    }
   ],
   "source": [
    "# Like operator to find coincidences.\n",
    "# In this case products that start with T\n",
    "%sql SELECT * FROM articles where Product LIKE 'T%';"
   ]
  },
  {
   "cell_type": "code",
   "execution_count": 29,
   "metadata": {},
   "outputs": [
    {
     "name": "stdout",
     "output_type": "stream",
     "text": [
      " * sqlite:///databases/database.db3\n",
      "Done.\n"
     ]
    },
    {
     "data": {
      "text/html": [
       "<table>\n",
       "    <tr>\n",
       "        <th>index</th>\n",
       "        <th>ID</th>\n",
       "        <th>Product</th>\n",
       "        <th>Location_Hall</th>\n",
       "        <th>Available</th>\n",
       "        <th>Class</th>\n",
       "        <th>Cost</th>\n",
       "    </tr>\n",
       "</table>"
      ],
      "text/plain": [
       "[]"
      ]
     },
     "execution_count": 29,
     "metadata": {},
     "output_type": "execute_result"
    }
   ],
   "source": [
    "# To find null values\n",
    "%sql SELECT * FROM articles where Location_Hall IS NULL;"
   ]
  },
  {
   "cell_type": "code",
   "execution_count": 30,
   "metadata": {
    "scrolled": true
   },
   "outputs": [
    {
     "name": "stdout",
     "output_type": "stream",
     "text": [
      " * sqlite:///databases/database.db3\n",
      "Done.\n"
     ]
    },
    {
     "data": {
      "text/html": [
       "<table>\n",
       "    <tr>\n",
       "        <th>index</th>\n",
       "        <th>ID</th>\n",
       "        <th>Product</th>\n",
       "        <th>Location_Hall</th>\n",
       "        <th>Available</th>\n",
       "        <th>Class</th>\n",
       "        <th>Cost</th>\n",
       "    </tr>\n",
       "    <tr>\n",
       "        <td>0</td>\n",
       "        <td>1</td>\n",
       "        <td>TP</td>\n",
       "        <td>2</td>\n",
       "        <td>Yes</td>\n",
       "        <td>A</td>\n",
       "        <td>20</td>\n",
       "    </tr>\n",
       "    <tr>\n",
       "        <td>1</td>\n",
       "        <td>2</td>\n",
       "        <td>Rice</td>\n",
       "        <td>3</td>\n",
       "        <td>Yes</td>\n",
       "        <td>B</td>\n",
       "        <td>30</td>\n",
       "    </tr>\n",
       "    <tr>\n",
       "        <td>2</td>\n",
       "        <td>3</td>\n",
       "        <td>Tomatoes</td>\n",
       "        <td>4</td>\n",
       "        <td>Yes</td>\n",
       "        <td>A</td>\n",
       "        <td>15</td>\n",
       "    </tr>\n",
       "    <tr>\n",
       "        <td>3</td>\n",
       "        <td>4</td>\n",
       "        <td>Mayonnaise</td>\n",
       "        <td>5</td>\n",
       "        <td>Yes</td>\n",
       "        <td>A</td>\n",
       "        <td>10</td>\n",
       "    </tr>\n",
       "    <tr>\n",
       "        <td>4</td>\n",
       "        <td>5</td>\n",
       "        <td>Soap</td>\n",
       "        <td>2</td>\n",
       "        <td>Yes</td>\n",
       "        <td>B</td>\n",
       "        <td>13</td>\n",
       "    </tr>\n",
       "    <tr>\n",
       "        <td>5</td>\n",
       "        <td>6</td>\n",
       "        <td>Bread</td>\n",
       "        <td>3</td>\n",
       "        <td>Yes</td>\n",
       "        <td>A</td>\n",
       "        <td>12</td>\n",
       "    </tr>\n",
       "    <tr>\n",
       "        <td>6</td>\n",
       "        <td>7</td>\n",
       "        <td>Beans</td>\n",
       "        <td>3</td>\n",
       "        <td>Yes</td>\n",
       "        <td>B</td>\n",
       "        <td>35</td>\n",
       "    </tr>\n",
       "    <tr>\n",
       "        <td>7</td>\n",
       "        <td>8</td>\n",
       "        <td>Potatoes</td>\n",
       "        <td>3</td>\n",
       "        <td>Yes</td>\n",
       "        <td>A</td>\n",
       "        <td>40</td>\n",
       "    </tr>\n",
       "    <tr>\n",
       "        <td>8</td>\n",
       "        <td>9</td>\n",
       "        <td>Apples</td>\n",
       "        <td>4</td>\n",
       "        <td>No</td>\n",
       "        <td>A</td>\n",
       "        <td>20</td>\n",
       "    </tr>\n",
       "    <tr>\n",
       "        <td>9</td>\n",
       "        <td>10</td>\n",
       "        <td>Cheese</td>\n",
       "        <td>4</td>\n",
       "        <td>Yes</td>\n",
       "        <td>B</td>\n",
       "        <td>30</td>\n",
       "    </tr>\n",
       "</table>"
      ],
      "text/plain": [
       "[(0, 1, 'TP', 2, 'Yes', 'A', 20),\n",
       " (1, 2, 'Rice', 3, 'Yes', 'B', 30),\n",
       " (2, 3, 'Tomatoes', 4, 'Yes', 'A', 15),\n",
       " (3, 4, 'Mayonnaise', 5, 'Yes', 'A', 10),\n",
       " (4, 5, 'Soap', 2, 'Yes', 'B', 13),\n",
       " (5, 6, 'Bread', 3, 'Yes', 'A', 12),\n",
       " (6, 7, 'Beans', 3, 'Yes', 'B', 35),\n",
       " (7, 8, 'Potatoes', 3, 'Yes', 'A', 40),\n",
       " (8, 9, 'Apples', 4, 'No', 'A', 20),\n",
       " (9, 10, 'Cheese', 4, 'Yes', 'B', 30)]"
      ]
     },
     "execution_count": 30,
     "metadata": {},
     "output_type": "execute_result"
    }
   ],
   "source": [
    "# To find not null values\n",
    "%sql SELECT * FROM articles where Location_Hall IS NOT NULL;"
   ]
  },
  {
   "cell_type": "markdown",
   "metadata": {},
   "source": [
    "## Multiple tables"
   ]
  },
  {
   "cell_type": "code",
   "execution_count": 6,
   "metadata": {},
   "outputs": [
    {
     "name": "stdout",
     "output_type": "stream",
     "text": [
      " * sqlite:///databases/database.db3\n"
     ]
    },
    {
     "data": {
      "text/plain": [
       "'Persisted orders'"
      ]
     },
     "execution_count": 6,
     "metadata": {},
     "output_type": "execute_result"
    }
   ],
   "source": [
    "# Creating multiple tables that are related\n",
    "orders = pd.DataFrame({\n",
    "  'Order_ID': [1, 2, 3],\n",
    "  'Customer_ID': [2, 3, 2],\n",
    "  'Product_ID': [1,3,2],\n",
    "  'Purchase_Date': [\"2020-01-01\", \"2020-06-21\", \"2020-08-13\"]\n",
    "})\n",
    "%sql --persist orders"
   ]
  },
  {
   "cell_type": "code",
   "execution_count": 7,
   "metadata": {},
   "outputs": [
    {
     "name": "stdout",
     "output_type": "stream",
     "text": [
      " * sqlite:///databases/database.db3\n"
     ]
    },
    {
     "data": {
      "text/plain": [
       "'Persisted products'"
      ]
     },
     "execution_count": 7,
     "metadata": {},
     "output_type": "execute_result"
    }
   ],
   "source": [
    "products = pd.DataFrame({\n",
    "  'Product_ID': [1, 2, 3],\n",
    "  'Product': [\"Rice\", \"Tomatoes\", \"Soap\"],\n",
    "  'Price': [6, 8, 3],\n",
    "  'Available': [\"Yes\", \"Yes\", \"Yes\"],\n",
    "})\n",
    "%sql --persist products"
   ]
  },
  {
   "cell_type": "code",
   "execution_count": 8,
   "metadata": {},
   "outputs": [
    {
     "name": "stdout",
     "output_type": "stream",
     "text": [
      " * sqlite:///databases/database.db3\n"
     ]
    },
    {
     "data": {
      "text/plain": [
       "'Persisted customers'"
      ]
     },
     "execution_count": 8,
     "metadata": {},
     "output_type": "execute_result"
    }
   ],
   "source": [
    "customers = pd.DataFrame({\n",
    "  'Customer_ID': [1, 2, 3],\n",
    "  'Customer': [\"John\", \"Mary\", \"Peter\"],\n",
    "  'Gender': [\"Male\", \"Female\", \"Male\"],\n",
    "  'Age': [31, 23, 27],\n",
    "})\n",
    "%sql --persist customers"
   ]
  },
  {
   "cell_type": "code",
   "execution_count": 9,
   "metadata": {},
   "outputs": [
    {
     "name": "stdout",
     "output_type": "stream",
     "text": [
      " * sqlite:///databases/database.db3\n",
      "Done.\n"
     ]
    },
    {
     "data": {
      "text/html": [
       "<table>\n",
       "    <tr>\n",
       "        <th>Order_ID</th>\n",
       "        <th>Customer_ID</th>\n",
       "        <th>Customer</th>\n",
       "    </tr>\n",
       "    <tr>\n",
       "        <td>1</td>\n",
       "        <td>2</td>\n",
       "        <td>Mary</td>\n",
       "    </tr>\n",
       "    <tr>\n",
       "        <td>2</td>\n",
       "        <td>3</td>\n",
       "        <td>Peter</td>\n",
       "    </tr>\n",
       "    <tr>\n",
       "        <td>3</td>\n",
       "        <td>2</td>\n",
       "        <td>Mary</td>\n",
       "    </tr>\n",
       "</table>"
      ],
      "text/plain": [
       "[(1, 2, 'Mary'), (2, 3, 'Peter'), (3, 2, 'Mary')]"
      ]
     },
     "execution_count": 9,
     "metadata": {},
     "output_type": "execute_result"
    }
   ],
   "source": [
    "# Combine tables in SQL with simple JOIN\n",
    "%sql SELECT orders.Order_ID, orders.Customer_ID, customers.Customer FROM orders JOIN customers ON orders.Customer_ID=customers.Customer_ID;"
   ]
  },
  {
   "cell_type": "code",
   "execution_count": 10,
   "metadata": {},
   "outputs": [
    {
     "name": "stdout",
     "output_type": "stream",
     "text": [
      " * sqlite:///databases/database.db3\n"
     ]
    },
    {
     "data": {
      "text/plain": [
       "'Persisted customers_damaged'"
      ]
     },
     "execution_count": 10,
     "metadata": {},
     "output_type": "execute_result"
    }
   ],
   "source": [
    "# Damaged customer table with missing values\n",
    "customers_damaged = pd.DataFrame({\n",
    "  'Customer_ID': [1, 3],\n",
    "  'Customer': [\"John\", \"Peter\"],\n",
    "  'Gender': [\"Male\", \"Male\"],\n",
    "  'Age': [31, 27],\n",
    "})\n",
    "%sql --persist customers_damaged"
   ]
  },
  {
   "cell_type": "code",
   "execution_count": 11,
   "metadata": {},
   "outputs": [
    {
     "name": "stdout",
     "output_type": "stream",
     "text": [
      " * sqlite:///databases/database.db3\n",
      "Done.\n"
     ]
    },
    {
     "data": {
      "text/html": [
       "<table>\n",
       "    <tr>\n",
       "        <th>Customer</th>\n",
       "        <th>Age</th>\n",
       "        <th>Order_ID</th>\n",
       "        <th>Purchase_Date</th>\n",
       "    </tr>\n",
       "    <tr>\n",
       "        <td>John</td>\n",
       "        <td>31</td>\n",
       "        <td>None</td>\n",
       "        <td>None</td>\n",
       "    </tr>\n",
       "    <tr>\n",
       "        <td>Peter</td>\n",
       "        <td>27</td>\n",
       "        <td>2</td>\n",
       "        <td>2020-06-21</td>\n",
       "    </tr>\n",
       "</table>"
      ],
      "text/plain": [
       "[('John', 31, None, None), ('Peter', 27, 2, '2020-06-21')]"
      ]
     },
     "execution_count": 11,
     "metadata": {},
     "output_type": "execute_result"
    }
   ],
   "source": [
    "# left JOIN: The word outer is not necessary but recommended\n",
    "%sql SELECT Customer, Age, Order_ID, Purchase_Date FROM customers_damaged LEFT OUTER JOIN orders ON customers_damaged.Customer_ID = orders.Customer_ID;"
   ]
  },
  {
   "cell_type": "code",
   "execution_count": 13,
   "metadata": {},
   "outputs": [
    {
     "name": "stdout",
     "output_type": "stream",
     "text": [
      " * sqlite:///databases/database.db3\n",
      "Done.\n"
     ]
    },
    {
     "data": {
      "text/html": [
       "<table>\n",
       "    <tr>\n",
       "        <th>Customer</th>\n",
       "        <th>Product</th>\n",
       "    </tr>\n",
       "    <tr>\n",
       "        <td>John</td>\n",
       "        <td>Rice</td>\n",
       "    </tr>\n",
       "    <tr>\n",
       "        <td>John</td>\n",
       "        <td>Tomatoes</td>\n",
       "    </tr>\n",
       "    <tr>\n",
       "        <td>John</td>\n",
       "        <td>Soap</td>\n",
       "    </tr>\n",
       "    <tr>\n",
       "        <td>Peter</td>\n",
       "        <td>Rice</td>\n",
       "    </tr>\n",
       "    <tr>\n",
       "        <td>Peter</td>\n",
       "        <td>Tomatoes</td>\n",
       "    </tr>\n",
       "    <tr>\n",
       "        <td>Peter</td>\n",
       "        <td>Soap</td>\n",
       "    </tr>\n",
       "</table>"
      ],
      "text/plain": [
       "[('John', 'Rice'),\n",
       " ('John', 'Tomatoes'),\n",
       " ('John', 'Soap'),\n",
       " ('Peter', 'Rice'),\n",
       " ('Peter', 'Tomatoes'),\n",
       " ('Peter', 'Soap')]"
      ]
     },
     "execution_count": 13,
     "metadata": {},
     "output_type": "execute_result"
    }
   ],
   "source": [
    "# CROSSS JOIN: A form of cartesian product\n",
    "%sql SELECT customers_damaged.Customer, products.Product FROM customers_damaged CROSS JOIN products;"
   ]
  },
  {
   "cell_type": "code",
   "execution_count": 18,
   "metadata": {
    "scrolled": true
   },
   "outputs": [
    {
     "name": "stdout",
     "output_type": "stream",
     "text": [
      " * sqlite:///databases/database.db3\n",
      "Done.\n"
     ]
    },
    {
     "data": {
      "text/html": [
       "<table>\n",
       "    <tr>\n",
       "        <th>index</th>\n",
       "        <th>Customer_ID</th>\n",
       "        <th>Customer</th>\n",
       "        <th>Gender</th>\n",
       "        <th>Age</th>\n",
       "    </tr>\n",
       "    <tr>\n",
       "        <td>0</td>\n",
       "        <td>1</td>\n",
       "        <td>John</td>\n",
       "        <td>Male</td>\n",
       "        <td>31</td>\n",
       "    </tr>\n",
       "    <tr>\n",
       "        <td>0</td>\n",
       "        <td>1</td>\n",
       "        <td>Rice</td>\n",
       "        <td>6</td>\n",
       "        <td>Yes</td>\n",
       "    </tr>\n",
       "    <tr>\n",
       "        <td>1</td>\n",
       "        <td>2</td>\n",
       "        <td>Tomatoes</td>\n",
       "        <td>8</td>\n",
       "        <td>Yes</td>\n",
       "    </tr>\n",
       "    <tr>\n",
       "        <td>1</td>\n",
       "        <td>3</td>\n",
       "        <td>Peter</td>\n",
       "        <td>Male</td>\n",
       "        <td>27</td>\n",
       "    </tr>\n",
       "    <tr>\n",
       "        <td>2</td>\n",
       "        <td>3</td>\n",
       "        <td>Soap</td>\n",
       "        <td>3</td>\n",
       "        <td>Yes</td>\n",
       "    </tr>\n",
       "</table>"
      ],
      "text/plain": [
       "[(0, 1, 'John', 'Male', 31),\n",
       " (0, 1, 'Rice', 6, 'Yes'),\n",
       " (1, 2, 'Tomatoes', 8, 'Yes'),\n",
       " (1, 3, 'Peter', 'Male', 27),\n",
       " (2, 3, 'Soap', 3, 'Yes')]"
      ]
     },
     "execution_count": 18,
     "metadata": {},
     "output_type": "execute_result"
    }
   ],
   "source": [
    "# UNION: To stack datasets organized by index\n",
    "%sql SELECT * FROM customers_damaged UNION SELECT * FROM products;"
   ]
  }
 ],
 "metadata": {
  "kernelspec": {
   "display_name": "Python 3",
   "language": "python",
   "name": "python3"
  },
  "language_info": {
   "codemirror_mode": {
    "name": "ipython",
    "version": 3
   },
   "file_extension": ".py",
   "mimetype": "text/x-python",
   "name": "python",
   "nbconvert_exporter": "python",
   "pygments_lexer": "ipython3",
   "version": "3.6.12"
  }
 },
 "nbformat": 4,
 "nbformat_minor": 2
}
